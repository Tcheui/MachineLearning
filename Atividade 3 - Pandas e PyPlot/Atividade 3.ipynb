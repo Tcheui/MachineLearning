{
 "cells": [
  {
   "cell_type": "markdown",
   "metadata": {},
   "source": [
    "# Atividade 3"
   ]
  },
  {
   "cell_type": "markdown",
   "metadata": {},
   "source": [
    "**Data:**  10/04/2023\n",
    "**Nome:**  Gabriel Toshiyuki Batista Toyoda"
   ]
  },
  {
   "cell_type": "markdown",
   "metadata": {},
   "source": [
    "## Instruções\n",
    "\n",
    "Para realizar esta atividade, certifique-se de que possui os arquivos `london12.csv`. Esses arquivos podem ser baixados do ColabWeb.\n",
    "\n",
    "Acrescente suas próprias células para responder os enunciados. Ao finalizar, submeta a atividade por meio do ColabWeb."
   ]
  },
  {
   "cell_type": "code",
   "execution_count": 1,
   "metadata": {},
   "outputs": [],
   "source": [
    "import numpy as np\n",
    "import pandas as pd\n",
    "import seaborn as sns\n",
    "import matplotlib.pyplot as plt\n",
    "\n",
    "sns.set()"
   ]
  },
  {
   "cell_type": "markdown",
   "metadata": {},
   "source": [
    "## Exercício 1"
   ]
  },
  {
   "cell_type": "markdown",
   "metadata": {},
   "source": [
    "<div style=\"background-color: #E2A038; border: #E2A038 solid 1px; margin-left: 2em; padding-left: 5px\"><div style=\"background-color: #F5EEE3; width: 100%; padding: 10px\">\n",
    "\n",
    "Carregue o conjunto de dados das Olimpíadas de 2012. Verifique quantas linhas e colunas foram carregadas. (Dica: verifique o formato ou <i>shape</i> do DataFrame)\n",
    "</div></div>"
   ]
  },
  {
   "cell_type": "code",
   "execution_count": 2,
   "metadata": {},
   "outputs": [
    {
     "data": {
      "text/html": [
       "<div>\n",
       "<style scoped>\n",
       "    .dataframe tbody tr th:only-of-type {\n",
       "        vertical-align: middle;\n",
       "    }\n",
       "\n",
       "    .dataframe tbody tr th {\n",
       "        vertical-align: top;\n",
       "    }\n",
       "\n",
       "    .dataframe thead th {\n",
       "        text-align: right;\n",
       "    }\n",
       "</style>\n",
       "<table border=\"1\" class=\"dataframe\">\n",
       "  <thead>\n",
       "    <tr style=\"text-align: right;\">\n",
       "      <th></th>\n",
       "      <th>ID</th>\n",
       "      <th>Age</th>\n",
       "      <th>Height</th>\n",
       "      <th>Weight</th>\n",
       "      <th>Sex</th>\n",
       "      <th>Total</th>\n",
       "      <th>Sport</th>\n",
       "    </tr>\n",
       "  </thead>\n",
       "  <tbody>\n",
       "    <tr>\n",
       "      <th>0</th>\n",
       "      <td>0</td>\n",
       "      <td>23</td>\n",
       "      <td>170.0</td>\n",
       "      <td>60.0</td>\n",
       "      <td>M</td>\n",
       "      <td>0</td>\n",
       "      <td>Judo</td>\n",
       "    </tr>\n",
       "    <tr>\n",
       "      <th>1</th>\n",
       "      <td>1</td>\n",
       "      <td>33</td>\n",
       "      <td>193.0</td>\n",
       "      <td>125.0</td>\n",
       "      <td>M</td>\n",
       "      <td>0</td>\n",
       "      <td>Athletics</td>\n",
       "    </tr>\n",
       "    <tr>\n",
       "      <th>2</th>\n",
       "      <td>2</td>\n",
       "      <td>30</td>\n",
       "      <td>187.0</td>\n",
       "      <td>76.0</td>\n",
       "      <td>M</td>\n",
       "      <td>0</td>\n",
       "      <td>Athletics</td>\n",
       "    </tr>\n",
       "    <tr>\n",
       "      <th>3</th>\n",
       "      <td>3</td>\n",
       "      <td>24</td>\n",
       "      <td>NaN</td>\n",
       "      <td>NaN</td>\n",
       "      <td>M</td>\n",
       "      <td>0</td>\n",
       "      <td>Boxing</td>\n",
       "    </tr>\n",
       "    <tr>\n",
       "      <th>4</th>\n",
       "      <td>4</td>\n",
       "      <td>26</td>\n",
       "      <td>178.0</td>\n",
       "      <td>85.0</td>\n",
       "      <td>F</td>\n",
       "      <td>0</td>\n",
       "      <td>Athletics</td>\n",
       "    </tr>\n",
       "    <tr>\n",
       "      <th>...</th>\n",
       "      <td>...</td>\n",
       "      <td>...</td>\n",
       "      <td>...</td>\n",
       "      <td>...</td>\n",
       "      <td>...</td>\n",
       "      <td>...</td>\n",
       "      <td>...</td>\n",
       "    </tr>\n",
       "    <tr>\n",
       "      <th>10379</th>\n",
       "      <td>10379</td>\n",
       "      <td>24</td>\n",
       "      <td>171.0</td>\n",
       "      <td>87.0</td>\n",
       "      <td>F</td>\n",
       "      <td>0</td>\n",
       "      <td>Athletics</td>\n",
       "    </tr>\n",
       "    <tr>\n",
       "      <th>10380</th>\n",
       "      <td>10380</td>\n",
       "      <td>28</td>\n",
       "      <td>172.0</td>\n",
       "      <td>56.0</td>\n",
       "      <td>F</td>\n",
       "      <td>0</td>\n",
       "      <td>Athletics</td>\n",
       "    </tr>\n",
       "    <tr>\n",
       "      <th>10381</th>\n",
       "      <td>10381</td>\n",
       "      <td>27</td>\n",
       "      <td>180.0</td>\n",
       "      <td>87.0</td>\n",
       "      <td>M</td>\n",
       "      <td>0</td>\n",
       "      <td>Handball</td>\n",
       "    </tr>\n",
       "    <tr>\n",
       "      <th>10382</th>\n",
       "      <td>10382</td>\n",
       "      <td>25</td>\n",
       "      <td>173.0</td>\n",
       "      <td>62.0</td>\n",
       "      <td>F</td>\n",
       "      <td>0</td>\n",
       "      <td>Athletics</td>\n",
       "    </tr>\n",
       "    <tr>\n",
       "      <th>10383</th>\n",
       "      <td>10383</td>\n",
       "      <td>24</td>\n",
       "      <td>221.0</td>\n",
       "      <td>110.0</td>\n",
       "      <td>M</td>\n",
       "      <td>0</td>\n",
       "      <td>Basketball</td>\n",
       "    </tr>\n",
       "  </tbody>\n",
       "</table>\n",
       "<p>10384 rows × 7 columns</p>\n",
       "</div>"
      ],
      "text/plain": [
       "          ID  Age  Height  Weight Sex  Total       Sport\n",
       "0          0   23   170.0    60.0   M      0        Judo\n",
       "1          1   33   193.0   125.0   M      0   Athletics\n",
       "2          2   30   187.0    76.0   M      0   Athletics\n",
       "3          3   24     NaN     NaN   M      0      Boxing\n",
       "4          4   26   178.0    85.0   F      0   Athletics\n",
       "...      ...  ...     ...     ...  ..    ...         ...\n",
       "10379  10379   24   171.0    87.0   F      0   Athletics\n",
       "10380  10380   28   172.0    56.0   F      0   Athletics\n",
       "10381  10381   27   180.0    87.0   M      0    Handball\n",
       "10382  10382   25   173.0    62.0   F      0   Athletics\n",
       "10383  10383   24   221.0   110.0   M      0  Basketball\n",
       "\n",
       "[10384 rows x 7 columns]"
      ]
     },
     "execution_count": 2,
     "metadata": {},
     "output_type": "execute_result"
    }
   ],
   "source": [
    "londres = pd.read_csv('london12.csv')\n",
    "\n",
    "londres"
   ]
  },
  {
   "cell_type": "markdown",
   "metadata": {},
   "source": [
    "<div style=\"background-color: #E2A038; border: #E2A038 solid 1px; margin-left: 2em; padding-left: 5px\"><div style=\"background-color: #F5EEE3; width: 100%; padding: 10px\">\n",
    "\n",
    "Remova a coluna `ID` usando o método `drop`.\n",
    "</div></div>"
   ]
  },
  {
   "cell_type": "code",
   "execution_count": 3,
   "metadata": {},
   "outputs": [
    {
     "data": {
      "text/html": [
       "<div>\n",
       "<style scoped>\n",
       "    .dataframe tbody tr th:only-of-type {\n",
       "        vertical-align: middle;\n",
       "    }\n",
       "\n",
       "    .dataframe tbody tr th {\n",
       "        vertical-align: top;\n",
       "    }\n",
       "\n",
       "    .dataframe thead th {\n",
       "        text-align: right;\n",
       "    }\n",
       "</style>\n",
       "<table border=\"1\" class=\"dataframe\">\n",
       "  <thead>\n",
       "    <tr style=\"text-align: right;\">\n",
       "      <th></th>\n",
       "      <th>Age</th>\n",
       "      <th>Height</th>\n",
       "      <th>Weight</th>\n",
       "      <th>Sex</th>\n",
       "      <th>Total</th>\n",
       "      <th>Sport</th>\n",
       "    </tr>\n",
       "  </thead>\n",
       "  <tbody>\n",
       "    <tr>\n",
       "      <th>0</th>\n",
       "      <td>23</td>\n",
       "      <td>170.0</td>\n",
       "      <td>60.0</td>\n",
       "      <td>M</td>\n",
       "      <td>0</td>\n",
       "      <td>Judo</td>\n",
       "    </tr>\n",
       "    <tr>\n",
       "      <th>1</th>\n",
       "      <td>33</td>\n",
       "      <td>193.0</td>\n",
       "      <td>125.0</td>\n",
       "      <td>M</td>\n",
       "      <td>0</td>\n",
       "      <td>Athletics</td>\n",
       "    </tr>\n",
       "    <tr>\n",
       "      <th>2</th>\n",
       "      <td>30</td>\n",
       "      <td>187.0</td>\n",
       "      <td>76.0</td>\n",
       "      <td>M</td>\n",
       "      <td>0</td>\n",
       "      <td>Athletics</td>\n",
       "    </tr>\n",
       "    <tr>\n",
       "      <th>3</th>\n",
       "      <td>24</td>\n",
       "      <td>NaN</td>\n",
       "      <td>NaN</td>\n",
       "      <td>M</td>\n",
       "      <td>0</td>\n",
       "      <td>Boxing</td>\n",
       "    </tr>\n",
       "    <tr>\n",
       "      <th>4</th>\n",
       "      <td>26</td>\n",
       "      <td>178.0</td>\n",
       "      <td>85.0</td>\n",
       "      <td>F</td>\n",
       "      <td>0</td>\n",
       "      <td>Athletics</td>\n",
       "    </tr>\n",
       "    <tr>\n",
       "      <th>...</th>\n",
       "      <td>...</td>\n",
       "      <td>...</td>\n",
       "      <td>...</td>\n",
       "      <td>...</td>\n",
       "      <td>...</td>\n",
       "      <td>...</td>\n",
       "    </tr>\n",
       "    <tr>\n",
       "      <th>10379</th>\n",
       "      <td>24</td>\n",
       "      <td>171.0</td>\n",
       "      <td>87.0</td>\n",
       "      <td>F</td>\n",
       "      <td>0</td>\n",
       "      <td>Athletics</td>\n",
       "    </tr>\n",
       "    <tr>\n",
       "      <th>10380</th>\n",
       "      <td>28</td>\n",
       "      <td>172.0</td>\n",
       "      <td>56.0</td>\n",
       "      <td>F</td>\n",
       "      <td>0</td>\n",
       "      <td>Athletics</td>\n",
       "    </tr>\n",
       "    <tr>\n",
       "      <th>10381</th>\n",
       "      <td>27</td>\n",
       "      <td>180.0</td>\n",
       "      <td>87.0</td>\n",
       "      <td>M</td>\n",
       "      <td>0</td>\n",
       "      <td>Handball</td>\n",
       "    </tr>\n",
       "    <tr>\n",
       "      <th>10382</th>\n",
       "      <td>25</td>\n",
       "      <td>173.0</td>\n",
       "      <td>62.0</td>\n",
       "      <td>F</td>\n",
       "      <td>0</td>\n",
       "      <td>Athletics</td>\n",
       "    </tr>\n",
       "    <tr>\n",
       "      <th>10383</th>\n",
       "      <td>24</td>\n",
       "      <td>221.0</td>\n",
       "      <td>110.0</td>\n",
       "      <td>M</td>\n",
       "      <td>0</td>\n",
       "      <td>Basketball</td>\n",
       "    </tr>\n",
       "  </tbody>\n",
       "</table>\n",
       "<p>10384 rows × 6 columns</p>\n",
       "</div>"
      ],
      "text/plain": [
       "       Age  Height  Weight Sex  Total       Sport\n",
       "0       23   170.0    60.0   M      0        Judo\n",
       "1       33   193.0   125.0   M      0   Athletics\n",
       "2       30   187.0    76.0   M      0   Athletics\n",
       "3       24     NaN     NaN   M      0      Boxing\n",
       "4       26   178.0    85.0   F      0   Athletics\n",
       "...    ...     ...     ...  ..    ...         ...\n",
       "10379   24   171.0    87.0   F      0   Athletics\n",
       "10380   28   172.0    56.0   F      0   Athletics\n",
       "10381   27   180.0    87.0   M      0    Handball\n",
       "10382   25   173.0    62.0   F      0   Athletics\n",
       "10383   24   221.0   110.0   M      0  Basketball\n",
       "\n",
       "[10384 rows x 6 columns]"
      ]
     },
     "execution_count": 3,
     "metadata": {},
     "output_type": "execute_result"
    }
   ],
   "source": [
    "londres.drop('ID', axis=1)"
   ]
  },
  {
   "cell_type": "markdown",
   "metadata": {},
   "source": [
    "Verifique as colunas remanescentes com o método `head`. Deve haver as colunas Age, Height, Weight, Sex, Total e Sport."
   ]
  },
  {
   "cell_type": "code",
   "execution_count": 4,
   "metadata": {},
   "outputs": [
    {
     "data": {
      "text/plain": [
       "10383"
      ]
     },
     "execution_count": 4,
     "metadata": {},
     "output_type": "execute_result"
    }
   ],
   "source": [
    "londres.head()\n",
    "\n",
    "londres.index[-1]"
   ]
  },
  {
   "cell_type": "markdown",
   "metadata": {},
   "source": [
    "<div style=\"background-color: #E2A038; border: #E2A038 solid 1px; margin-left: 2em; padding-left: 5px\"><div style=\"background-color: #F5EEE3; width: 100%; padding: 10px\">\n",
    "\n",
    "Verifique quantos atletas receberam pelo menos uma medalha. O resultado deve ser 493.\n",
    "</div></div>"
   ]
  },
  {
   "cell_type": "code",
   "execution_count": 5,
   "metadata": {},
   "outputs": [
    {
     "data": {
      "text/plain": [
       "493"
      ]
     },
     "execution_count": 5,
     "metadata": {},
     "output_type": "execute_result"
    }
   ],
   "source": [
    "total = 0\n",
    "for i in range(londres.index[-1]):\n",
    "    if londres['Total'][i] != 0: total+=1\n",
    "\n",
    "total"
   ]
  },
  {
   "cell_type": "markdown",
   "metadata": {},
   "source": [
    "## Exercício 2"
   ]
  },
  {
   "cell_type": "markdown",
   "metadata": {},
   "source": [
    "<div style=\"background-color: #E2A038; border: #E2A038 solid 1px; margin-left: 2em; padding-left: 5px\"><div style=\"background-color: #F5EEE3; width: 100%; padding: 10px\">\n",
    "\n",
    "Usando `idxmax`, encontre o índice da linha que contém o atleta mais velho da competição.\n",
    "</div></div>"
   ]
  },
  {
   "cell_type": "code",
   "execution_count": 6,
   "metadata": {},
   "outputs": [
    {
     "data": {
      "text/plain": [
       "3758"
      ]
     },
     "execution_count": 6,
     "metadata": {},
     "output_type": "execute_result"
    }
   ],
   "source": [
    "pos_mais_velho = londres[\"Age\"].idxmax()\n",
    "\n",
    "pos_mais_velho"
   ]
  },
  {
   "cell_type": "markdown",
   "metadata": {},
   "source": [
    "<div style=\"background-color: #E2A038; border: #E2A038 solid 1px; margin-left: 2em; padding-left: 5px\"><div style=\"background-color: #F5EEE3; width: 100%; padding: 10px\">\n",
    "\n",
    "Utilize esse índice para recuperar os dados desse atleta.\n",
    "</div></div>"
   ]
  },
  {
   "cell_type": "code",
   "execution_count": 7,
   "metadata": {},
   "outputs": [
    {
     "data": {
      "text/plain": [
       "71"
      ]
     },
     "execution_count": 7,
     "metadata": {},
     "output_type": "execute_result"
    }
   ],
   "source": [
    "londres['Age'][pos_mais_velho]"
   ]
  },
  {
   "cell_type": "markdown",
   "metadata": {},
   "source": [
    "<div style=\"background-color: #E2A038; border: #E2A038 solid 1px; margin-left: 2em; padding-left: 5px\"><div style=\"background-color: #F5EEE3; width: 100%; padding: 10px\">\n",
    "\n",
    "Quem é a atleta mais velha da competição?\n",
    "</div></div>"
   ]
  },
  {
   "cell_type": "markdown",
   "metadata": {},
   "source": [
    "<div style=\"background-color: #3976E4; border: #3976E4 solid 1px; margin-left: 2em; padding-left: 5px\"><div style=\"background-color: #A9B8D1; width: 100%; padding: 10px\">\n",
    "\n",
    "**Dica:** utilize uma condição sobre o atributo `Sex` para gerar uma máscara\n",
    "</div></div>"
   ]
  },
  {
   "cell_type": "code",
   "execution_count": 8,
   "metadata": {},
   "outputs": [
    {
     "data": {
      "text/plain": [
       "ID              6495\n",
       "Age               57\n",
       "Height         173.0\n",
       "Weight          63.0\n",
       "Sex                F\n",
       "Total              0\n",
       "Sport     Equestrian\n",
       "Name: 6495, dtype: object"
      ]
     },
     "execution_count": 8,
     "metadata": {},
     "output_type": "execute_result"
    }
   ],
   "source": [
    "mulheres = londres['Sex'] == 'F'\n",
    "\n",
    "pos_mais_velha = londres.loc[mulheres, 'Age'].idxmax()\n",
    "\n",
    "londres.loc[pos_mais_velha]"
   ]
  },
  {
   "cell_type": "markdown",
   "metadata": {},
   "source": [
    "<div style=\"background-color: #E2A038; border: #E2A038 solid 1px; margin-left: 2em; padding-left: 5px\"><div style=\"background-color: #F5EEE3; width: 100%; padding: 10px\">\n",
    "\n",
    "Quem são os 15 atletas mais novos?\n",
    "</div></div>"
   ]
  },
  {
   "cell_type": "code",
   "execution_count": 9,
   "metadata": {},
   "outputs": [
    {
     "data": {
      "text/html": [
       "<div>\n",
       "<style scoped>\n",
       "    .dataframe tbody tr th:only-of-type {\n",
       "        vertical-align: middle;\n",
       "    }\n",
       "\n",
       "    .dataframe tbody tr th {\n",
       "        vertical-align: top;\n",
       "    }\n",
       "\n",
       "    .dataframe thead th {\n",
       "        text-align: right;\n",
       "    }\n",
       "</style>\n",
       "<table border=\"1\" class=\"dataframe\">\n",
       "  <thead>\n",
       "    <tr style=\"text-align: right;\">\n",
       "      <th></th>\n",
       "      <th>ID</th>\n",
       "      <th>Age</th>\n",
       "      <th>Height</th>\n",
       "      <th>Weight</th>\n",
       "      <th>Sex</th>\n",
       "      <th>Total</th>\n",
       "      <th>Sport</th>\n",
       "    </tr>\n",
       "  </thead>\n",
       "  <tbody>\n",
       "    <tr>\n",
       "      <th>4869</th>\n",
       "      <td>4869</td>\n",
       "      <td>13</td>\n",
       "      <td>158.0</td>\n",
       "      <td>53.0</td>\n",
       "      <td>F</td>\n",
       "      <td>0</td>\n",
       "      <td>Swimming</td>\n",
       "    </tr>\n",
       "    <tr>\n",
       "      <th>2806</th>\n",
       "      <td>2806</td>\n",
       "      <td>14</td>\n",
       "      <td>162.0</td>\n",
       "      <td>50.0</td>\n",
       "      <td>F</td>\n",
       "      <td>0</td>\n",
       "      <td>Swimming</td>\n",
       "    </tr>\n",
       "    <tr>\n",
       "      <th>4601</th>\n",
       "      <td>4601</td>\n",
       "      <td>14</td>\n",
       "      <td>149.0</td>\n",
       "      <td>44.0</td>\n",
       "      <td>F</td>\n",
       "      <td>0</td>\n",
       "      <td>Diving</td>\n",
       "    </tr>\n",
       "    <tr>\n",
       "      <th>6331</th>\n",
       "      <td>6331</td>\n",
       "      <td>14</td>\n",
       "      <td>172.0</td>\n",
       "      <td>72.0</td>\n",
       "      <td>F</td>\n",
       "      <td>0</td>\n",
       "      <td>Swimming</td>\n",
       "    </tr>\n",
       "    <tr>\n",
       "      <th>6333</th>\n",
       "      <td>6333</td>\n",
       "      <td>14</td>\n",
       "      <td>161.0</td>\n",
       "      <td>53.0</td>\n",
       "      <td>F</td>\n",
       "      <td>0</td>\n",
       "      <td>Fencing</td>\n",
       "    </tr>\n",
       "    <tr>\n",
       "      <th>7552</th>\n",
       "      <td>7552</td>\n",
       "      <td>14</td>\n",
       "      <td>170.0</td>\n",
       "      <td>53.0</td>\n",
       "      <td>F</td>\n",
       "      <td>0</td>\n",
       "      <td>Swimming</td>\n",
       "    </tr>\n",
       "    <tr>\n",
       "      <th>9030</th>\n",
       "      <td>9030</td>\n",
       "      <td>14</td>\n",
       "      <td>168.0</td>\n",
       "      <td>68.0</td>\n",
       "      <td>F</td>\n",
       "      <td>0</td>\n",
       "      <td>Swimming</td>\n",
       "    </tr>\n",
       "    <tr>\n",
       "      <th>9791</th>\n",
       "      <td>9791</td>\n",
       "      <td>14</td>\n",
       "      <td>180.0</td>\n",
       "      <td>64.0</td>\n",
       "      <td>F</td>\n",
       "      <td>0</td>\n",
       "      <td>Swimming</td>\n",
       "    </tr>\n",
       "    <tr>\n",
       "      <th>188</th>\n",
       "      <td>188</td>\n",
       "      <td>15</td>\n",
       "      <td>173.0</td>\n",
       "      <td>65.0</td>\n",
       "      <td>M</td>\n",
       "      <td>0</td>\n",
       "      <td>Swimming</td>\n",
       "    </tr>\n",
       "    <tr>\n",
       "      <th>269</th>\n",
       "      <td>269</td>\n",
       "      <td>15</td>\n",
       "      <td>165.0</td>\n",
       "      <td>60.0</td>\n",
       "      <td>M</td>\n",
       "      <td>0</td>\n",
       "      <td>Swimming</td>\n",
       "    </tr>\n",
       "    <tr>\n",
       "      <th>721</th>\n",
       "      <td>721</td>\n",
       "      <td>15</td>\n",
       "      <td>172.0</td>\n",
       "      <td>60.0</td>\n",
       "      <td>F</td>\n",
       "      <td>0</td>\n",
       "      <td>Swimming</td>\n",
       "    </tr>\n",
       "    <tr>\n",
       "      <th>748</th>\n",
       "      <td>748</td>\n",
       "      <td>15</td>\n",
       "      <td>NaN</td>\n",
       "      <td>NaN</td>\n",
       "      <td>F</td>\n",
       "      <td>0</td>\n",
       "      <td>Swimming</td>\n",
       "    </tr>\n",
       "    <tr>\n",
       "      <th>1088</th>\n",
       "      <td>1088</td>\n",
       "      <td>15</td>\n",
       "      <td>167.0</td>\n",
       "      <td>60.0</td>\n",
       "      <td>F</td>\n",
       "      <td>0</td>\n",
       "      <td>Diving</td>\n",
       "    </tr>\n",
       "    <tr>\n",
       "      <th>3371</th>\n",
       "      <td>3371</td>\n",
       "      <td>15</td>\n",
       "      <td>170.0</td>\n",
       "      <td>55.0</td>\n",
       "      <td>F</td>\n",
       "      <td>0</td>\n",
       "      <td>Swimming</td>\n",
       "    </tr>\n",
       "    <tr>\n",
       "      <th>3944</th>\n",
       "      <td>3944</td>\n",
       "      <td>15</td>\n",
       "      <td>162.0</td>\n",
       "      <td>56.0</td>\n",
       "      <td>M</td>\n",
       "      <td>0</td>\n",
       "      <td>Swimming</td>\n",
       "    </tr>\n",
       "  </tbody>\n",
       "</table>\n",
       "</div>"
      ],
      "text/plain": [
       "        ID  Age  Height  Weight Sex  Total     Sport\n",
       "4869  4869   13   158.0    53.0   F      0  Swimming\n",
       "2806  2806   14   162.0    50.0   F      0  Swimming\n",
       "4601  4601   14   149.0    44.0   F      0    Diving\n",
       "6331  6331   14   172.0    72.0   F      0  Swimming\n",
       "6333  6333   14   161.0    53.0   F      0   Fencing\n",
       "7552  7552   14   170.0    53.0   F      0  Swimming\n",
       "9030  9030   14   168.0    68.0   F      0  Swimming\n",
       "9791  9791   14   180.0    64.0   F      0  Swimming\n",
       "188    188   15   173.0    65.0   M      0  Swimming\n",
       "269    269   15   165.0    60.0   M      0  Swimming\n",
       "721    721   15   172.0    60.0   F      0  Swimming\n",
       "748    748   15     NaN     NaN   F      0  Swimming\n",
       "1088  1088   15   167.0    60.0   F      0    Diving\n",
       "3371  3371   15   170.0    55.0   F      0  Swimming\n",
       "3944  3944   15   162.0    56.0   M      0  Swimming"
      ]
     },
     "execution_count": 9,
     "metadata": {},
     "output_type": "execute_result"
    }
   ],
   "source": [
    "mais_novos = londres.nsmallest(15, 'Age')\n",
    "\n",
    "mais_novos"
   ]
  },
  {
   "cell_type": "markdown",
   "metadata": {},
   "source": [
    "<div style=\"background-color: #E2A038; border: #E2A038 solid 1px; margin-left: 2em; padding-left: 5px\"><div style=\"background-color: #F5EEE3; width: 100%; padding: 10px\">\n",
    "\n",
    "Gere um histograma das idades dos homens\n",
    "</div></div>"
   ]
  },
  {
   "cell_type": "code",
   "execution_count": 10,
   "metadata": {},
   "outputs": [
    {
     "data": {
      "text/plain": [
       "(array([1., 7., 7.]),\n",
       " array([13.        , 13.66666667, 14.33333333, 15.        ]),\n",
       " <BarContainer object of 3 artists>)"
      ]
     },
     "execution_count": 10,
     "metadata": {},
     "output_type": "execute_result"
    },
    {
     "data": {
      "image/png": "[encoded data removed]",
      "text/plain": [
       "<Figure size 640x480 with 1 Axes>"
      ]
     },
     "metadata": {},
     "output_type": "display_data"
    }
   ],
   "source": [
    "plt.hist(mais_novos['Age'], bins = 3)"
   ]
  },
  {
   "cell_type": "markdown",
   "metadata": {},
   "source": [
    "<div style=\"background-color: #E2A038; border: #E2A038 solid 1px; margin-left: 2em; padding-left: 5px\"><div style=\"background-color: #F5EEE3; width: 100%; padding: 10px\">\n",
    "\n",
    "Gere um histograma das idades das mulheres\n",
    "</div></div>"
   ]
  },
  {
   "cell_type": "code",
   "execution_count": 11,
   "metadata": {},
   "outputs": [
    {
     "data": {
      "text/plain": [
       "(array([ 181.,  881., 1835., 1036.,  468.,  147.,   47.,   21.,    9.,\n",
       "           3.]),\n",
       " array([13. , 17.4, 21.8, 26.2, 30.6, 35. , 39.4, 43.8, 48.2, 52.6, 57. ]),\n",
       " <BarContainer object of 10 artists>)"
      ]
     },
     "execution_count": 11,
     "metadata": {},
     "output_type": "execute_result"
    },
    {
     "data": {
      "image/png": "[encoded data removed]",
      "text/plain": [
       "<Figure size 640x480 with 1 Axes>"
      ]
     },
     "metadata": {},
     "output_type": "display_data"
    }
   ],
   "source": [
    "mulheres = londres[londres['Sex'] == 'F']\n",
    "\n",
    "plt.hist(mulheres['Age'])"
   ]
  },
  {
   "cell_type": "markdown",
   "metadata": {},
   "source": [
    "## Exercício 3"
   ]
  },
  {
   "cell_type": "markdown",
   "metadata": {},
   "source": [
    "Neste exercício você deverá utilizar a função `pie` do PyPlot ou o método `plot.pie` da própria série do Pandas para gerar um gráfico de \"pizza\".\n",
    "\n",
    "Você pode obter os dados a partir de um `value_counts` ou usando a função `histogram` do NumPy."
   ]
  },
  {
   "cell_type": "markdown",
   "metadata": {},
   "source": [
    "<div style=\"background-color: #E2A038; border: #E2A038 solid 1px; margin-left: 2em; padding-left: 5px\"><div style=\"background-color: #F5EEE3; width: 100%; padding: 10px\">\n",
    "\n",
    "Faça um gráfico circular (*pie chart*) comparando o número de atletas que não ganharam nenhuma medalha com o número de atletas que ganharam alguma medalha.\n",
    "</div></div>"
   ]
  },
  {
   "cell_type": "code",
   "execution_count": 12,
   "metadata": {},
   "outputs": [],
   "source": [
    "sns.set_palette('pastel')"
   ]
  },
  {
   "cell_type": "code",
   "execution_count": 13,
   "metadata": {},
   "outputs": [
    {
     "data": {
      "image/png": "[encoded data removed]",
      "text/plain": [
       "<Figure size 640x480 with 1 Axes>"
      ]
     },
     "metadata": {},
     "output_type": "display_data"
    }
   ],
   "source": [
    "medalhas = londres.Total.value_counts()\n",
    "\n",
    "plt.pie([medalhas[0], sum(medalhas[1:6])], labels=['Não medalhitas','Medalhistas']);  # complete aqui"
   ]
  },
  {
   "cell_type": "markdown",
   "metadata": {},
   "source": [
    "<div style=\"background-color: #3976E4; border: #3976E4 solid 1px; margin-left: 2em; padding-left: 5px\"><div style=\"background-color: #A9B8D1; width: 100%; padding: 10px\">\n",
    "\n",
    "Como um teste, refaça o gráfico do item anterior, passando agora o argumento `explode=[0, 0.2]` para a função `pie`. Observe o que acontece com o segmento do gráfico que representa os atletas medalhistas.\n",
    "</div></div>"
   ]
  },
  {
   "cell_type": "code",
   "execution_count": 14,
   "metadata": {
    "scrolled": true
   },
   "outputs": [
    {
     "data": {
      "image/png": "[encoded data removed]",
      "text/plain": [
       "<Figure size 640x480 with 1 Axes>"
      ]
     },
     "metadata": {},
     "output_type": "display_data"
    }
   ],
   "source": [
    "g1 = plt.pie([medalhas[0], sum(medalhas[1:6])],\n",
    "        autopct='%.2f%%', explode=[0, 0.2],\n",
    "        labels=['Não medalhitas', 'Medalhistas']);\n",
    "plt.title('Proporção de atletas medalhistas e não medalhistas');"
   ]
  },
  {
   "cell_type": "markdown",
   "metadata": {},
   "source": [
    "<div style=\"background-color: #E2A038; border: #E2A038 solid 1px; margin-left: 2em; padding-left: 5px\"><div style=\"background-color: #F5EEE3; width: 100%; padding: 10px\">\n",
    "\n",
    "Gere um gráfico circular para atletas que ganharam uma medalha e atletas que ganharam duas ou mais medalhas.\n",
    "</div></div>"
   ]
  },
  {
   "cell_type": "code",
   "execution_count": 15,
   "metadata": {},
   "outputs": [
    {
     "data": {
      "image/png": "[encoded data removed]",
      "text/plain": [
       "<Figure size 640x480 with 1 Axes>"
      ]
     },
     "metadata": {},
     "output_type": "display_data"
    }
   ],
   "source": [
    "g2 = plt.pie([medalhas[1], sum(medalhas[2:6])],\n",
    "        labels=['1 medalha', '2+ medalhas'],\n",
    "        autopct='%.2f%%');\n",
    "plt.title('Ganhadores de uma e mais de uma medalha');"
   ]
  },
  {
   "cell_type": "markdown",
   "metadata": {},
   "source": [
    "<div style=\"background-color: #E2A038; border: #E2A038 solid 1px; margin-left: 2em; padding-left: 5px\"><div style=\"background-color: #F5EEE3; width: 100%; padding: 10px\">\n",
    "\n",
    "Utilizando *subplots*, faça uma figura que contém os dois gráficos anteriores, lado a lado, representando duas visões do total de medalhas. A figura deverá ser parecida com a que aparece no *slide* 38 da apresentação `04-Pandas`.\n",
    "</div></div>"
   ]
  },
  {
   "cell_type": "markdown",
   "metadata": {},
   "source": [
    "<div style=\"background-color: #3976E4; border: #3976E4 solid 1px; margin-left: 2em; padding-left: 5px\"><div style=\"background-color: #A9B8D1; width: 100%; padding: 10px\">\n",
    "\n",
    "**Dica:** utilize `plt.subplots_adjust(right=1.2)` ou outro vaor adequado para ajustar os *subplots*\n",
    "</div></div>"
   ]
  },
  {
   "cell_type": "markdown",
   "metadata": {},
   "source": [
    "<div style=\"background-color: #3976E4; border: #3976E4 solid 1px; margin-left: 2em; padding-left: 5px\"><div style=\"background-color: #A9B8D1; width: 100%; padding: 10px\">\n",
    "\n",
    "**Dica:** você pode utilizar `\\n` para fazer quebras de linha no título\n",
    "</div></div>"
   ]
  },
  {
   "cell_type": "code",
   "execution_count": 16,
   "metadata": {},
   "outputs": [
    {
     "data": {
      "image/png": "[encoded data removed]",
      "text/plain": [
       "<Figure size 800x800 with 2 Axes>"
      ]
     },
     "metadata": {},
     "output_type": "display_data"
    }
   ],
   "source": [
    "fig, (g1, g2) = plt.subplots(nrows=1, ncols=2, figsize=(8, 8))\n",
    "\n",
    "g1.pie([medalhas[0], sum(medalhas[1:6])],\n",
    "        autopct='%.2f%%', explode=[0, 0.2],\n",
    "        labels=['Não medalhitas', 'Medalhistas']);\n",
    "g1.set_title('Proporção de atletas medalhistas e não medalhistas');\n",
    "\n",
    "g2.pie([medalhas[1], sum(medalhas[2:6])],\n",
    "        labels=['1 medalha', '2+ medalhas'],\n",
    "        autopct='%.2f%%');\n",
    "g2.set_title('Ganhadores de uma e mais de uma medalha');\n",
    "\n",
    "plt.subplots_adjust(right=1.2)\n",
    "\n",
    "plt.show()"
   ]
  },
  {
   "cell_type": "markdown",
   "metadata": {},
   "source": [
    "## Exercício 4"
   ]
  },
  {
   "cell_type": "markdown",
   "metadata": {},
   "source": [
    "<div style=\"background-color: #E2A038; border: #E2A038 solid 1px; margin-left: 2em; padding-left: 5px\"><div style=\"background-color: #F5EEE3; width: 100%; padding: 10px\">\n",
    "\n",
    "Substitua a altura e o peso de todos os atletas com valores ausentes por médias das amostras\n",
    "</div></div>"
   ]
  },
  {
   "cell_type": "code",
   "execution_count": 17,
   "metadata": {},
   "outputs": [
    {
     "data": {
      "text/plain": [
       "176.90786928636874"
      ]
     },
     "execution_count": 17,
     "metadata": {},
     "output_type": "execute_result"
    }
   ],
   "source": [
    "londres['Height'].mean()"
   ]
  },
  {
   "cell_type": "code",
   "execution_count": 18,
   "metadata": {
    "scrolled": true
   },
   "outputs": [
    {
     "data": {
      "text/html": [
       "<div>\n",
       "<style scoped>\n",
       "    .dataframe tbody tr th:only-of-type {\n",
       "        vertical-align: middle;\n",
       "    }\n",
       "\n",
       "    .dataframe tbody tr th {\n",
       "        vertical-align: top;\n",
       "    }\n",
       "\n",
       "    .dataframe thead th {\n",
       "        text-align: right;\n",
       "    }\n",
       "</style>\n",
       "<table border=\"1\" class=\"dataframe\">\n",
       "  <thead>\n",
       "    <tr style=\"text-align: right;\">\n",
       "      <th></th>\n",
       "      <th>ID</th>\n",
       "      <th>Age</th>\n",
       "      <th>Height</th>\n",
       "      <th>Weight</th>\n",
       "      <th>Sex</th>\n",
       "      <th>Total</th>\n",
       "      <th>Sport</th>\n",
       "    </tr>\n",
       "  </thead>\n",
       "  <tbody>\n",
       "    <tr>\n",
       "      <th>0</th>\n",
       "      <td>0</td>\n",
       "      <td>23</td>\n",
       "      <td>170.000000</td>\n",
       "      <td>60.000000</td>\n",
       "      <td>M</td>\n",
       "      <td>0</td>\n",
       "      <td>Judo</td>\n",
       "    </tr>\n",
       "    <tr>\n",
       "      <th>1</th>\n",
       "      <td>1</td>\n",
       "      <td>33</td>\n",
       "      <td>193.000000</td>\n",
       "      <td>125.000000</td>\n",
       "      <td>M</td>\n",
       "      <td>0</td>\n",
       "      <td>Athletics</td>\n",
       "    </tr>\n",
       "    <tr>\n",
       "      <th>2</th>\n",
       "      <td>2</td>\n",
       "      <td>30</td>\n",
       "      <td>187.000000</td>\n",
       "      <td>76.000000</td>\n",
       "      <td>M</td>\n",
       "      <td>0</td>\n",
       "      <td>Athletics</td>\n",
       "    </tr>\n",
       "    <tr>\n",
       "      <th>3</th>\n",
       "      <td>3</td>\n",
       "      <td>24</td>\n",
       "      <td>176.907869</td>\n",
       "      <td>72.852812</td>\n",
       "      <td>M</td>\n",
       "      <td>0</td>\n",
       "      <td>Boxing</td>\n",
       "    </tr>\n",
       "    <tr>\n",
       "      <th>4</th>\n",
       "      <td>4</td>\n",
       "      <td>26</td>\n",
       "      <td>178.000000</td>\n",
       "      <td>85.000000</td>\n",
       "      <td>F</td>\n",
       "      <td>0</td>\n",
       "      <td>Athletics</td>\n",
       "    </tr>\n",
       "    <tr>\n",
       "      <th>...</th>\n",
       "      <td>...</td>\n",
       "      <td>...</td>\n",
       "      <td>...</td>\n",
       "      <td>...</td>\n",
       "      <td>...</td>\n",
       "      <td>...</td>\n",
       "      <td>...</td>\n",
       "    </tr>\n",
       "    <tr>\n",
       "      <th>10379</th>\n",
       "      <td>10379</td>\n",
       "      <td>24</td>\n",
       "      <td>171.000000</td>\n",
       "      <td>87.000000</td>\n",
       "      <td>F</td>\n",
       "      <td>0</td>\n",
       "      <td>Athletics</td>\n",
       "    </tr>\n",
       "    <tr>\n",
       "      <th>10380</th>\n",
       "      <td>10380</td>\n",
       "      <td>28</td>\n",
       "      <td>172.000000</td>\n",
       "      <td>56.000000</td>\n",
       "      <td>F</td>\n",
       "      <td>0</td>\n",
       "      <td>Athletics</td>\n",
       "    </tr>\n",
       "    <tr>\n",
       "      <th>10381</th>\n",
       "      <td>10381</td>\n",
       "      <td>27</td>\n",
       "      <td>180.000000</td>\n",
       "      <td>87.000000</td>\n",
       "      <td>M</td>\n",
       "      <td>0</td>\n",
       "      <td>Handball</td>\n",
       "    </tr>\n",
       "    <tr>\n",
       "      <th>10382</th>\n",
       "      <td>10382</td>\n",
       "      <td>25</td>\n",
       "      <td>173.000000</td>\n",
       "      <td>62.000000</td>\n",
       "      <td>F</td>\n",
       "      <td>0</td>\n",
       "      <td>Athletics</td>\n",
       "    </tr>\n",
       "    <tr>\n",
       "      <th>10383</th>\n",
       "      <td>10383</td>\n",
       "      <td>24</td>\n",
       "      <td>221.000000</td>\n",
       "      <td>110.000000</td>\n",
       "      <td>M</td>\n",
       "      <td>0</td>\n",
       "      <td>Basketball</td>\n",
       "    </tr>\n",
       "  </tbody>\n",
       "</table>\n",
       "<p>10384 rows × 7 columns</p>\n",
       "</div>"
      ],
      "text/plain": [
       "          ID  Age      Height      Weight Sex  Total       Sport\n",
       "0          0   23  170.000000   60.000000   M      0        Judo\n",
       "1          1   33  193.000000  125.000000   M      0   Athletics\n",
       "2          2   30  187.000000   76.000000   M      0   Athletics\n",
       "3          3   24  176.907869   72.852812   M      0      Boxing\n",
       "4          4   26  178.000000   85.000000   F      0   Athletics\n",
       "...      ...  ...         ...         ...  ..    ...         ...\n",
       "10379  10379   24  171.000000   87.000000   F      0   Athletics\n",
       "10380  10380   28  172.000000   56.000000   F      0   Athletics\n",
       "10381  10381   27  180.000000   87.000000   M      0    Handball\n",
       "10382  10382   25  173.000000   62.000000   F      0   Athletics\n",
       "10383  10383   24  221.000000  110.000000   M      0  Basketball\n",
       "\n",
       "[10384 rows x 7 columns]"
      ]
     },
     "execution_count": 18,
     "metadata": {},
     "output_type": "execute_result"
    }
   ],
   "source": [
    "londres['Weight'] = londres['Weight'].replace(np.NaN, londres['Weight'].mean())\n",
    "londres['Height'] = londres['Height'].replace(np.NaN, londres['Height'].mean())\n",
    "\n",
    "londres"
   ]
  },
  {
   "cell_type": "markdown",
   "metadata": {},
   "source": [
    "<div style=\"background-color: #E2A038; border: #E2A038 solid 1px; margin-left: 2em; padding-left: 5px\"><div style=\"background-color: #F5EEE3; width: 100%; padding: 10px\">\n",
    "\n",
    "Crie um atributo chamado BMI (*body mass index*) utilizando a relação a seguir.\n",
    "</div></div>"
   ]
  },
  {
   "cell_type": "markdown",
   "metadata": {},
   "source": [
    "$$\\text{BMI} = \\frac{\\text{peso}_{kg}}{\\text{altura}^2_{m}}$$"
   ]
  },
  {
   "cell_type": "code",
   "execution_count": 19,
   "metadata": {},
   "outputs": [
    {
     "data": {
      "text/html": [
       "<div>\n",
       "<style scoped>\n",
       "    .dataframe tbody tr th:only-of-type {\n",
       "        vertical-align: middle;\n",
       "    }\n",
       "\n",
       "    .dataframe tbody tr th {\n",
       "        vertical-align: top;\n",
       "    }\n",
       "\n",
       "    .dataframe thead th {\n",
       "        text-align: right;\n",
       "    }\n",
       "</style>\n",
       "<table border=\"1\" class=\"dataframe\">\n",
       "  <thead>\n",
       "    <tr style=\"text-align: right;\">\n",
       "      <th></th>\n",
       "      <th>ID</th>\n",
       "      <th>Age</th>\n",
       "      <th>Height</th>\n",
       "      <th>Weight</th>\n",
       "      <th>Sex</th>\n",
       "      <th>Total</th>\n",
       "      <th>Sport</th>\n",
       "      <th>BMI</th>\n",
       "    </tr>\n",
       "  </thead>\n",
       "  <tbody>\n",
       "    <tr>\n",
       "      <th>0</th>\n",
       "      <td>0</td>\n",
       "      <td>23</td>\n",
       "      <td>170.000000</td>\n",
       "      <td>60.000000</td>\n",
       "      <td>M</td>\n",
       "      <td>0</td>\n",
       "      <td>Judo</td>\n",
       "      <td>20.761246</td>\n",
       "    </tr>\n",
       "    <tr>\n",
       "      <th>1</th>\n",
       "      <td>1</td>\n",
       "      <td>33</td>\n",
       "      <td>193.000000</td>\n",
       "      <td>125.000000</td>\n",
       "      <td>M</td>\n",
       "      <td>0</td>\n",
       "      <td>Athletics</td>\n",
       "      <td>33.557948</td>\n",
       "    </tr>\n",
       "    <tr>\n",
       "      <th>2</th>\n",
       "      <td>2</td>\n",
       "      <td>30</td>\n",
       "      <td>187.000000</td>\n",
       "      <td>76.000000</td>\n",
       "      <td>M</td>\n",
       "      <td>0</td>\n",
       "      <td>Athletics</td>\n",
       "      <td>21.733535</td>\n",
       "    </tr>\n",
       "    <tr>\n",
       "      <th>3</th>\n",
       "      <td>3</td>\n",
       "      <td>24</td>\n",
       "      <td>176.907869</td>\n",
       "      <td>72.852812</td>\n",
       "      <td>M</td>\n",
       "      <td>0</td>\n",
       "      <td>Boxing</td>\n",
       "      <td>23.278340</td>\n",
       "    </tr>\n",
       "    <tr>\n",
       "      <th>4</th>\n",
       "      <td>4</td>\n",
       "      <td>26</td>\n",
       "      <td>178.000000</td>\n",
       "      <td>85.000000</td>\n",
       "      <td>F</td>\n",
       "      <td>0</td>\n",
       "      <td>Athletics</td>\n",
       "      <td>26.827421</td>\n",
       "    </tr>\n",
       "    <tr>\n",
       "      <th>...</th>\n",
       "      <td>...</td>\n",
       "      <td>...</td>\n",
       "      <td>...</td>\n",
       "      <td>...</td>\n",
       "      <td>...</td>\n",
       "      <td>...</td>\n",
       "      <td>...</td>\n",
       "      <td>...</td>\n",
       "    </tr>\n",
       "    <tr>\n",
       "      <th>10379</th>\n",
       "      <td>10379</td>\n",
       "      <td>24</td>\n",
       "      <td>171.000000</td>\n",
       "      <td>87.000000</td>\n",
       "      <td>F</td>\n",
       "      <td>0</td>\n",
       "      <td>Athletics</td>\n",
       "      <td>29.752744</td>\n",
       "    </tr>\n",
       "    <tr>\n",
       "      <th>10380</th>\n",
       "      <td>10380</td>\n",
       "      <td>28</td>\n",
       "      <td>172.000000</td>\n",
       "      <td>56.000000</td>\n",
       "      <td>F</td>\n",
       "      <td>0</td>\n",
       "      <td>Athletics</td>\n",
       "      <td>18.929151</td>\n",
       "    </tr>\n",
       "    <tr>\n",
       "      <th>10381</th>\n",
       "      <td>10381</td>\n",
       "      <td>27</td>\n",
       "      <td>180.000000</td>\n",
       "      <td>87.000000</td>\n",
       "      <td>M</td>\n",
       "      <td>0</td>\n",
       "      <td>Handball</td>\n",
       "      <td>26.851852</td>\n",
       "    </tr>\n",
       "    <tr>\n",
       "      <th>10382</th>\n",
       "      <td>10382</td>\n",
       "      <td>25</td>\n",
       "      <td>173.000000</td>\n",
       "      <td>62.000000</td>\n",
       "      <td>F</td>\n",
       "      <td>0</td>\n",
       "      <td>Athletics</td>\n",
       "      <td>20.715694</td>\n",
       "    </tr>\n",
       "    <tr>\n",
       "      <th>10383</th>\n",
       "      <td>10383</td>\n",
       "      <td>24</td>\n",
       "      <td>221.000000</td>\n",
       "      <td>110.000000</td>\n",
       "      <td>M</td>\n",
       "      <td>0</td>\n",
       "      <td>Basketball</td>\n",
       "      <td>22.522061</td>\n",
       "    </tr>\n",
       "  </tbody>\n",
       "</table>\n",
       "<p>10384 rows × 8 columns</p>\n",
       "</div>"
      ],
      "text/plain": [
       "          ID  Age      Height      Weight Sex  Total       Sport        BMI\n",
       "0          0   23  170.000000   60.000000   M      0        Judo  20.761246\n",
       "1          1   33  193.000000  125.000000   M      0   Athletics  33.557948\n",
       "2          2   30  187.000000   76.000000   M      0   Athletics  21.733535\n",
       "3          3   24  176.907869   72.852812   M      0      Boxing  23.278340\n",
       "4          4   26  178.000000   85.000000   F      0   Athletics  26.827421\n",
       "...      ...  ...         ...         ...  ..    ...         ...        ...\n",
       "10379  10379   24  171.000000   87.000000   F      0   Athletics  29.752744\n",
       "10380  10380   28  172.000000   56.000000   F      0   Athletics  18.929151\n",
       "10381  10381   27  180.000000   87.000000   M      0    Handball  26.851852\n",
       "10382  10382   25  173.000000   62.000000   F      0   Athletics  20.715694\n",
       "10383  10383   24  221.000000  110.000000   M      0  Basketball  22.522061\n",
       "\n",
       "[10384 rows x 8 columns]"
      ]
     },
     "execution_count": 19,
     "metadata": {},
     "output_type": "execute_result"
    }
   ],
   "source": [
    "londres_novo = londres.assign(BMI = londres['Weight']/((londres['Height']/100)**2))\n",
    "\n",
    "londres_novo"
   ]
  },
  {
   "cell_type": "markdown",
   "metadata": {},
   "source": [
    "<div style=\"background-color: #E2A038; border: #E2A038 solid 1px; margin-left: 2em; padding-left: 5px\"><div style=\"background-color: #F5EEE3; width: 100%; padding: 10px\">\n",
    "\n",
    "Gere um histograma da distribuição do IMC.\n",
    "</div></div>"
   ]
  },
  {
   "cell_type": "code",
   "execution_count": 20,
   "metadata": {},
   "outputs": [
    {
     "data": {
      "text/plain": [
       "(array([4.900e+01, 3.779e+03, 5.644e+03, 7.150e+02, 1.460e+02, 3.400e+01,\n",
       "        1.100e+01, 3.000e+00, 1.000e+00, 2.000e+00]),\n",
       " array([11.4552683 , 16.67935433, 21.90344035, 27.12752638, 32.3516124 ,\n",
       "        37.57569843, 42.79978446, 48.02387048, 53.24795651, 58.47204253,\n",
       "        63.69612856]),\n",
       " <BarContainer object of 10 artists>)"
      ]
     },
     "execution_count": 20,
     "metadata": {},
     "output_type": "execute_result"
    },
    {
     "data": {
      "image/png": "[encoded data removed]",
      "text/plain": [
       "<Figure size 640x480 with 1 Axes>"
      ]
     },
     "metadata": {},
     "output_type": "display_data"
    }
   ],
   "source": [
    "plt.hist(londres_novo['BMI'])"
   ]
  },
  {
   "cell_type": "markdown",
   "metadata": {},
   "source": [
    "<div style=\"background-color: #E2A038; border: #E2A038 solid 1px; margin-left: 2em; padding-left: 5px\"><div style=\"background-color: #F5EEE3; width: 100%; padding: 10px\">\n",
    "\n",
    "Existe diferença entre o ICM entre homens e mulheres?\n",
    "</div></div>"
   ]
  },
  {
   "cell_type": "markdown",
   "metadata": {},
   "source": [
    "<div style=\"background-color: #3976E4; border: #3976E4 solid 1px; margin-left: 2em; padding-left: 5px\"><div style=\"background-color: #A9B8D1; width: 100%; padding: 10px\">\n",
    "\n",
    "**Dica:** você pode utilizar *subplots* ou especificar um *alpha* para plotar dois histogramas\n",
    "</div></div>"
   ]
  },
  {
   "cell_type": "code",
   "execution_count": 21,
   "metadata": {},
   "outputs": [],
   "source": [
    "fem = londres_novo[londres['Sex'] == 'F']\n",
    "male = londres_novo[londres['Sex'] == 'M']"
   ]
  },
  {
   "cell_type": "code",
   "execution_count": 22,
   "metadata": {},
   "outputs": [
    {
     "name": "stdout",
     "output_type": "stream",
     "text": [
      "22.122426874410706 23.93222869687221\n"
     ]
    }
   ],
   "source": [
    "print(fem['BMI'].mean(), male['BMI'].mean())"
   ]
  },
  {
   "cell_type": "code",
   "execution_count": 23,
   "metadata": {
    "scrolled": false
   },
   "outputs": [
    {
     "data": {
      "image/png": "[encoded data removed]",
      "text/plain": [
       "<Figure size 1400x800 with 2 Axes>"
      ]
     },
     "metadata": {},
     "output_type": "display_data"
    }
   ],
   "source": [
    "fig, (hi1, hi2) = plt.subplots(nrows=1, ncols=2, figsize=(14, 8))\n",
    "\n",
    "hi1.hist(male['BMI'], range = (15,40))\n",
    "hi1.set_title('IMC Masculino')\n",
    "\n",
    "hi2.hist(fem['BMI'], range = (15,40))\n",
    "hi2.set_title('IMC Feminino')\n",
    "\n",
    "plt.show()"
   ]
  },
  {
   "cell_type": "markdown",
   "metadata": {},
   "source": [
    "A maior concentração dos IMCs femininos gira me torno de 17.5 a 25, enquanto a concentração de IMC masculino gira em torno de 20 a 27.5. Como mostrado abaixo, a diferença entre os IMCs é de, aproximadamente, 1.81. Vale ressaltar que existem menos mulheres na base e isso pode afetar de alguma forma o resultado."
   ]
  },
  {
   "cell_type": "code",
   "execution_count": 24,
   "metadata": {},
   "outputs": [
    {
     "name": "stdout",
     "output_type": "stream",
     "text": [
      "1.8098018224615053\n"
     ]
    }
   ],
   "source": [
    "print(male['BMI'].mean() - fem['BMI'].mean())"
   ]
  },
  {
   "cell_type": "markdown",
   "metadata": {},
   "source": [
    "<div style=\"background-color: #E2A038; border: #E2A038 solid 1px; margin-left: 2em; padding-left: 5px\"><div style=\"background-color: #F5EEE3; width: 100%; padding: 10px\">\n",
    "\n",
    "Os dados possuem uma cauda muito longa à direita. Faça um histograma apenas dos atletas que possuem IMC maior ou igual a 30\n",
    "</div></div>"
   ]
  },
  {
   "cell_type": "code",
   "execution_count": 25,
   "metadata": {},
   "outputs": [
    {
     "data": {
      "image/png": "[encoded data removed]",
      "text/plain": [
       "<Figure size 1400x800 with 2 Axes>"
      ]
     },
     "metadata": {},
     "output_type": "display_data"
    }
   ],
   "source": [
    "fig, (hi3, hi4) = plt.subplots(nrows=1, ncols=2, figsize=(14, 8))\n",
    "\n",
    "hi3.hist(male['BMI'], range = (30,40))\n",
    "hi3.set_title('IMC Masculino')\n",
    "\n",
    "hi4.hist(fem['BMI'], range = (30,40))\n",
    "hi4.set_title('IMC Feminino')\n",
    "\n",
    "plt.show()"
   ]
  },
  {
   "cell_type": "markdown",
   "metadata": {},
   "source": [
    "<div style=\"background-color: #E2A038; border: #E2A038 solid 1px; margin-left: 2em; padding-left: 5px\"><div style=\"background-color: #F5EEE3; width: 100%; padding: 10px\">\n",
    "\n",
    "Faça um *boxplot* para identificar *outliers* no atributo IMC.\n",
    "</div></div>"
   ]
  },
  {
   "cell_type": "code",
   "execution_count": 26,
   "metadata": {
    "scrolled": true
   },
   "outputs": [
    {
     "data": {
      "text/plain": [
       "Text(0.5, 1.0, 'Boxplot Feminino')"
      ]
     },
     "execution_count": 26,
     "metadata": {},
     "output_type": "execute_result"
    },
    {
     "data": {
      "image/png": "[encoded data removed]",
      "text/plain": [
       "<Figure size 1500x800 with 2 Axes>"
      ]
     },
     "metadata": {},
     "output_type": "display_data"
    }
   ],
   "source": [
    "fig, (b1, b2) = plt.subplots(nrows=1, ncols=2, figsize=(15, 8))\n",
    "\n",
    "b1.boxplot(male['BMI'])\n",
    "b1.set_title(\"Boxplot Masculino\")\n",
    "\n",
    "b2.boxplot(fem['BMI'])\n",
    "b2.set_title(\"Boxplot Feminino\")\n"
   ]
  },
  {
   "cell_type": "markdown",
   "metadata": {},
   "source": [
    "<div style=\"background-color: #E2A038; border: #E2A038 solid 1px; margin-left: 2em; padding-left: 5px\"><div style=\"background-color: #F5EEE3; width: 100%; padding: 10px\">\n",
    "\n",
    "Uma técnica de transformação de atributos que possuem *outliers* é o *clipping*. O *clipping* é obtido determinando-se um ponto de corte em um atributo e agrupando todos os *outliers* com o valor do ponto de corte. Aplique *clipping* no atributo IMC para que não haja atletas com IMC > 30\n",
    "</div></div>"
   ]
  },
  {
   "cell_type": "code",
   "execution_count": 27,
   "metadata": {},
   "outputs": [
    {
     "name": "stdout",
     "output_type": "stream",
     "text": [
      "0        20.761246\n",
      "1        30.000000\n",
      "2        21.733535\n",
      "3        23.278340\n",
      "5        24.151673\n",
      "           ...    \n",
      "10371    24.840980\n",
      "10375    26.812219\n",
      "10378    22.491349\n",
      "10381    26.851852\n",
      "10383    22.522061\n",
      "Name: BMI, Length: 5756, dtype: float64 4        26.827421\n",
      "6        22.038401\n",
      "12       20.047446\n",
      "13       21.887076\n",
      "15       26.122418\n",
      "           ...    \n",
      "10376    19.943213\n",
      "10377    23.422091\n",
      "10379    29.752744\n",
      "10380    18.929151\n",
      "10382    20.715694\n",
      "Name: BMI, Length: 4628, dtype: float64\n"
     ]
    }
   ],
   "source": [
    "fem_clipped = np.clip(fem['BMI'], None, 30)\n",
    "\n",
    "male_clipped = np.clip(male['BMI'], None, 30)\n",
    "\n",
    "print(male_clipped, fem_clipped)"
   ]
  }
 ],
 "metadata": {
  "kernelspec": {
   "display_name": "Python 3 (ipykernel)",
   "language": "python",
   "name": "python3"
  },
  "language_info": {
   "codemirror_mode": {
    "name": "ipython",
    "version": 3
   },
   "file_extension": ".py",
   "mimetype": "text/x-python",
   "name": "python",
   "nbconvert_exporter": "python",
   "pygments_lexer": "ipython3",
   "version": "3.10.9"
  }
 },
 "nbformat": 4,
 "nbformat_minor": 2
}
