{
 "cells": [
  {
   "cell_type": "markdown",
   "metadata": {
    "id": "5Q936NDXKXYD"
   },
   "source": [
    "## <h3 align=\"center\"> **kNN -- Conexão entre Complexidade e Capacidade de Generalização**</h3> \n",
    "\n",
    "\n"
   ]
  },
  {
   "cell_type": "markdown",
   "metadata": {},
   "source": [
    "**Nome:** Gabriel Toshiyuki Batista Toyoda - 22153164"
   ]
  },
  {
   "cell_type": "markdown",
   "metadata": {
    "id": "5XBdCvyUTLmg"
   },
   "source": [
    "Vamos investigar se podemos observar a conexão entre complexidade\n",
    "e generalização usando kNN. Nós faremos isso utilizando a\n",
    "base de dados **Breast Cancer**. Nós começaremos dividindo a base de dados em um conjunto de treinamento e um conjunto de teste. Em seguida, nós avaliaremos\n",
    "o desempenho no conjunto de treinamento e de teste com diferentes números de vizinhos.\n"
   ]
  },
  {
   "cell_type": "code",
   "execution_count": 106,
   "metadata": {
    "id": "B_pypY8nZ2v3"
   },
   "outputs": [],
   "source": [
    "# Importando bibliotecas necessárias\n",
    "import matplotlib\n",
    "import matplotlib.pyplot as plt\n",
    "import numpy as np\n",
    "import sklearn\n",
    "import random"
   ]
  },
  {
   "cell_type": "markdown",
   "metadata": {
    "id": "neX2378I_3H5"
   },
   "source": [
    "**Conhecendo a base Breast Cancer**\n",
    "\n",
    "Neste exemplo, nós utilizaremos a base **Breast Cancer** disponível no sklearn, mas originário do repositório da UCI (https://archive.ics.uci.edu/ml/datasets/breast+cancer). Trata-se de uma base de dados que foi obtida a partir de imagens digitalizadas de massas mamárias e que descrevem **dois** tipos de classe: maligno (harmful) e benigno (not harmful). Os atributos descrevem características dos núcleos celulares presentes nas imagens.\n",
    "\n",
    "No total, são **30 atributos** ordenados: raio médio, textura média, perímetro médio, área média, suavidade média, compacidade média, concavidade média, pontos côncavos médios, simetria média, dimensão fractal média, erro de raio, erro de textura, erro de perímetro, erro de área, erro de suavidade, erro de compactação, erro de concavidade, erro de pontos côncavos, erro de simetria, erro de dimensão fractal, pior raio, pior textura, pior perímetro, pior área, pior suavidade, pior compacidade, pior concavidade, piores pontos côncavos, pior simetria e pior dimensão fractal) e um alvo (tipo de câncer).\n",
    "\n"
   ]
  },
  {
   "cell_type": "code",
   "execution_count": 77,
   "metadata": {
    "id": "SuFa2BZOvO6R"
   },
   "outputs": [],
   "source": [
    "#Carregando a base de dados\n",
    "from sklearn.datasets import load_breast_cancer\n",
    "cancer = load_breast_cancer()"
   ]
  },
  {
   "cell_type": "code",
   "execution_count": 78,
   "metadata": {
    "id": "wWbOLR4kvO6U"
   },
   "outputs": [
    {
     "name": "stdout",
     "output_type": "stream",
     "text": [
      "(569, 30)\n"
     ]
    },
    {
     "data": {
      "text/plain": [
       "array([[1.799e+01, 1.038e+01, 1.228e+02, ..., 2.654e-01, 4.601e-01,\n",
       "        1.189e-01],\n",
       "       [2.057e+01, 1.777e+01, 1.329e+02, ..., 1.860e-01, 2.750e-01,\n",
       "        8.902e-02],\n",
       "       [1.969e+01, 2.125e+01, 1.300e+02, ..., 2.430e-01, 3.613e-01,\n",
       "        8.758e-02],\n",
       "       ...,\n",
       "       [1.660e+01, 2.808e+01, 1.083e+02, ..., 1.418e-01, 2.218e-01,\n",
       "        7.820e-02],\n",
       "       [2.060e+01, 2.933e+01, 1.401e+02, ..., 2.650e-01, 4.087e-01,\n",
       "        1.240e-01],\n",
       "       [7.760e+00, 2.454e+01, 4.792e+01, ..., 0.000e+00, 2.871e-01,\n",
       "        7.039e-02]])"
      ]
     },
     "execution_count": 78,
     "metadata": {},
     "output_type": "execute_result"
    }
   ],
   "source": [
    "#Verificando quantidade de instâncias e de atributos\n",
    "# Vamos também acessar os dados\n",
    "\n",
    "print(cancer.data.shape)\n",
    "cancer.data"
   ]
  },
  {
   "cell_type": "code",
   "execution_count": 79,
   "metadata": {
    "id": "JzA-pRwkvO6W"
   },
   "outputs": [
    {
     "data": {
      "text/plain": [
       "array([0, 0, 0, 0, 0, 0, 0, 0, 0, 0, 0, 0, 0, 0, 0, 0, 0, 0, 0, 1, 1, 1,\n",
       "       0, 0, 0, 0, 0, 0, 0, 0, 0, 0, 0, 0, 0, 0, 0, 1, 0, 0, 0, 0, 0, 0,\n",
       "       0, 0, 1, 0, 1, 1, 1, 1, 1, 0, 0, 1, 0, 0, 1, 1, 1, 1, 0, 1, 0, 0,\n",
       "       1, 1, 1, 1, 0, 1, 0, 0, 1, 0, 1, 0, 0, 1, 1, 1, 0, 0, 1, 0, 0, 0,\n",
       "       1, 1, 1, 0, 1, 1, 0, 0, 1, 1, 1, 0, 0, 1, 1, 1, 1, 0, 1, 1, 0, 1,\n",
       "       1, 1, 1, 1, 1, 1, 1, 0, 0, 0, 1, 0, 0, 1, 1, 1, 0, 0, 1, 0, 1, 0,\n",
       "       0, 1, 0, 0, 1, 1, 0, 1, 1, 0, 1, 1, 1, 1, 0, 1, 1, 1, 1, 1, 1, 1,\n",
       "       1, 1, 0, 1, 1, 1, 1, 0, 0, 1, 0, 1, 1, 0, 0, 1, 1, 0, 0, 1, 1, 1,\n",
       "       1, 0, 1, 1, 0, 0, 0, 1, 0, 1, 0, 1, 1, 1, 0, 1, 1, 0, 0, 1, 0, 0,\n",
       "       0, 0, 1, 0, 0, 0, 1, 0, 1, 0, 1, 1, 0, 1, 0, 0, 0, 0, 1, 1, 0, 0,\n",
       "       1, 1, 1, 0, 1, 1, 1, 1, 1, 0, 0, 1, 1, 0, 1, 1, 0, 0, 1, 0, 1, 1,\n",
       "       1, 1, 0, 1, 1, 1, 1, 1, 0, 1, 0, 0, 0, 0, 0, 0, 0, 0, 0, 0, 0, 0,\n",
       "       0, 0, 1, 1, 1, 1, 1, 1, 0, 1, 0, 1, 1, 0, 1, 1, 0, 1, 0, 0, 1, 1,\n",
       "       1, 1, 1, 1, 1, 1, 1, 1, 1, 1, 1, 0, 1, 1, 0, 1, 0, 1, 1, 1, 1, 1,\n",
       "       1, 1, 1, 1, 1, 1, 1, 1, 1, 0, 1, 1, 1, 0, 1, 0, 1, 1, 1, 1, 0, 0,\n",
       "       0, 1, 1, 1, 1, 0, 1, 0, 1, 0, 1, 1, 1, 0, 1, 1, 1, 1, 1, 1, 1, 0,\n",
       "       0, 0, 1, 1, 1, 1, 1, 1, 1, 1, 1, 1, 1, 0, 0, 1, 0, 0, 0, 1, 0, 0,\n",
       "       1, 1, 1, 1, 1, 0, 1, 1, 1, 1, 1, 0, 1, 1, 1, 0, 1, 1, 0, 0, 1, 1,\n",
       "       1, 1, 1, 1, 0, 1, 1, 1, 1, 1, 1, 1, 0, 1, 1, 1, 1, 1, 0, 1, 1, 0,\n",
       "       1, 1, 1, 1, 1, 1, 1, 1, 1, 1, 1, 1, 0, 1, 0, 0, 1, 0, 1, 1, 1, 1,\n",
       "       1, 0, 1, 1, 0, 1, 0, 1, 1, 0, 1, 0, 1, 1, 1, 1, 1, 1, 1, 1, 0, 0,\n",
       "       1, 1, 1, 1, 1, 1, 0, 1, 1, 1, 1, 1, 1, 1, 1, 1, 1, 0, 1, 1, 1, 1,\n",
       "       1, 1, 1, 0, 1, 0, 1, 1, 0, 1, 1, 1, 1, 1, 0, 0, 1, 0, 1, 0, 1, 1,\n",
       "       1, 1, 1, 0, 1, 1, 0, 1, 0, 1, 0, 0, 1, 1, 1, 0, 1, 1, 1, 1, 1, 1,\n",
       "       1, 1, 1, 1, 1, 0, 1, 0, 0, 1, 1, 1, 1, 1, 1, 1, 1, 1, 1, 1, 1, 1,\n",
       "       1, 1, 1, 1, 1, 1, 1, 1, 1, 1, 1, 1, 0, 0, 0, 0, 0, 0, 1])"
      ]
     },
     "execution_count": 79,
     "metadata": {},
     "output_type": "execute_result"
    }
   ],
   "source": [
    "# E  as classes\n",
    "cancer.target"
   ]
  },
  {
   "cell_type": "markdown",
   "metadata": {
    "id": "x-0xTdY2wuig"
   },
   "source": [
    "Nós vamos dividir a base em **dois** conjuntos: **treino e teste**. A base de treino terá 75% das instâncias, enquanto a base de teste terá 25% do total de instâncias. As duas bases são estratificadas."
   ]
  },
  {
   "cell_type": "code",
   "execution_count": 80,
   "metadata": {
    "id": "Sr1qtG0f4ox_"
   },
   "outputs": [
    {
     "name": "stdout",
     "output_type": "stream",
     "text": [
      "(426, 30) (426,)\n",
      "(143, 30) (143,)\n"
     ]
    }
   ],
   "source": [
    "from sklearn.model_selection import train_test_split\n",
    "\n",
    "X_train, X_test, y_train, y_test = train_test_split(cancer.data, cancer.target, stratify=cancer.target, random_state=42)\n",
    "\n",
    "#Checando a divisão das instâncias entre as duas bases\n",
    "print(X_train.shape, y_train.shape)\n",
    "print(X_test.shape, y_test.shape)"
   ]
  },
  {
   "cell_type": "markdown",
   "metadata": {
    "id": "4jrHJ2HXnEO6"
   },
   "source": [
    "## **Variando o valor de kNN do classificador kNN**\n",
    "\n",
    "Nós vamos primeiramente importar o método kNN do SKLearn"
   ]
  },
  {
   "cell_type": "code",
   "execution_count": 81,
   "metadata": {
    "id": "Awu97BYl741t"
   },
   "outputs": [],
   "source": [
    "# Chamando os método kNN que será utilizado\n",
    "from sklearn.neighbors import KNeighborsClassifier"
   ]
  },
  {
   "cell_type": "markdown",
   "metadata": {
    "id": "P17Cl_AI8Rjq"
   },
   "source": [
    "**Tarefa 1:** Treine e teste o kNN variando o valor de k de 1 a 10.Depois compare as taxas de acurácia obtidas nas duas bases."
   ]
  },
  {
   "cell_type": "code",
   "execution_count": 82,
   "metadata": {
    "scrolled": false
   },
   "outputs": [
    {
     "name": "stdout",
     "output_type": "stream",
     "text": [
      "\n",
      "Para n_neighbors = 1 , temos:\n",
      "0.9370629370629371\n",
      "\n",
      "Para n_neighbors = 2 , temos:\n",
      "0.9300699300699301\n",
      "\n",
      "Para n_neighbors = 3 , temos:\n",
      "0.9300699300699301\n",
      "\n",
      "Para n_neighbors = 4 , temos:\n",
      "0.916083916083916\n",
      "\n",
      "Para n_neighbors = 5 , temos:\n",
      "0.9300699300699301\n",
      "\n",
      "Para n_neighbors = 6 , temos:\n",
      "0.9230769230769231\n",
      "\n",
      "Para n_neighbors = 7 , temos:\n",
      "0.9440559440559441\n",
      "\n",
      "Para n_neighbors = 8 , temos:\n",
      "0.9440559440559441\n",
      "\n",
      "Para n_neighbors = 9 , temos:\n",
      "0.9440559440559441\n",
      "\n",
      "Para n_neighbors = 10 , temos:\n",
      "0.9440559440559441\n"
     ]
    }
   ],
   "source": [
    "list_acc = []\n",
    "\n",
    "for i in range(1, 11):\n",
    "    print(\"\\nPara n_neighbors =\", i, \", temos:\")\n",
    "    treino = KNeighborsClassifier(n_neighbors = i)\n",
    "    treino.fit(X_train, y_train)\n",
    "\n",
    "    print(treino.score(X_test, y_test))\n",
    "    list_acc.append(treino.score(X_test, y_test))"
   ]
  },
  {
   "cell_type": "code",
   "execution_count": 83,
   "metadata": {},
   "outputs": [
    {
     "name": "stdout",
     "output_type": "stream",
     "text": [
      "0.9440559440559441\n"
     ]
    },
    {
     "data": {
      "image/png": "[encoded data removed]",
      "text/plain": [
       "<Figure size 640x480 with 1 Axes>"
      ]
     },
     "metadata": {},
     "output_type": "display_data"
    }
   ],
   "source": [
    "plt.plot(list_acc)\n",
    "print(max(list_acc))"
   ]
  },
  {
   "cell_type": "markdown",
   "metadata": {
    "id": "aIZL9P8O9FS_"
   },
   "source": [
    "Comparando o desempenho do modelo ao variar o valor de k nos dois conjuntos de dados."
   ]
  },
  {
   "cell_type": "markdown",
   "metadata": {
    "id": "WktaduL8-ikX"
   },
   "source": [
    "**Tarefa 2:** Responda as seguintes perguntas.\n",
    "\n",
    "\n",
    "1.   Qual o melhor valor de k e por quê?\n",
    "2.   O que pode ser observado ao variarmos o valor de k nas questões de overfitting e underfitting?\n",
    "\n",
    "Resposta 1: O melhor valor para k é 7, 8, 9 ou 10, já que estes possuem a maior acurácia como mostrado no gráfico acima.\n",
    "\n",
    "Resposta 2: O overfitting ocorre quando o modelo se ajusta demais aos dados de treinamento, resultando em um desempenho ruim quando confrontado com novos dados. O overfitting é caracteristico de escolhas de K muito baixos.\n",
    "\n",
    "O underfitting, por sua vez, resulta em modelos muito generalistas que não conseguem capturar as relações entre os dados. Este resultado é caracteristico de valores muito altos de K."
   ]
  },
  {
   "cell_type": "markdown",
   "metadata": {
    "id": "CIJNDCxpnsl7"
   },
   "source": [
    "## <h3 align=\"center\"> **Comparando kNN, Árvore de Decisão e Naive Bayes**</h3> "
   ]
  },
  {
   "cell_type": "markdown",
   "metadata": {
    "id": "DndXoFxpp2Xh"
   },
   "source": [
    "## **Qual é o melhor método: kNN, Árvore ou Naive Bayes?**\n",
    "\n",
    "Agora nós vamos comparar o desempenho de **kNN**, **Árvore de Decisão** e de **Naive Bayes** (GaussianNB)  fazendo **ajuste dos hiperparâmetros dos métodos**: *n_neighbors* para kNN e *max_depth* para árvore.\n",
    "\n",
    "É importante lembrar que, como haverá **ajuste de hiparâmetros**, a base de teste somente poderá ser usada ao final, após os hiperparâmetros serem todos ajustados. Portanto, para o ajuste de hiperparâmetros, nós utilizaremos a **base de validação**. Além disso, para facilitar a observação de ocorrência de **overfitting**, nós sempre compararemos a acurária no treino e na validação.\n"
   ]
  },
  {
   "cell_type": "markdown",
   "metadata": {
    "id": "mkyba1_srZPw"
   },
   "source": [
    "Como nós faremos ajustes dos hiperparâmetros dos métodos, nós vamos dividir a base em **três** partições: **treino, validação e teste**. A base de treino terá 60% das instâncias, enquanto as bases de teste e de validação terão 20% cada."
   ]
  },
  {
   "cell_type": "code",
   "execution_count": 84,
   "metadata": {
    "id": "NBeQv4W2vO6a"
   },
   "outputs": [
    {
     "name": "stdout",
     "output_type": "stream",
     "text": [
      "(455, 30) (455,)\n",
      "(114, 30) (114,)\n"
     ]
    }
   ],
   "source": [
    "#Vamos, inicialmente, dividir a base em duas partições: treino e teste. A base de treino terá 80% das instâncias, enquanto a de teste terá 20%\n",
    "\n",
    "from sklearn.model_selection import train_test_split\n",
    "\n",
    "#Dividindo a base (com seleção de instâncias aleatória)\n",
    "X_train, X_test, y_train, y_test = train_test_split(cancer.data, cancer.target, test_size=0.2, random_state = 42)\n",
    "\n",
    "#Checando a divisão das instâncias entre as duas bases\n",
    "print(X_train.shape, y_train.shape)\n",
    "print(X_test.shape, y_test.shape)"
   ]
  },
  {
   "cell_type": "markdown",
   "metadata": {
    "id": "FR-sOSkFvQgg"
   },
   "source": [
    "Agora vamos dividir **a base de treino em duas bases: treino e validação**. Ao final, a base de treino terá 60% das instâncias originais, enquanto a base de validação terá 20%, assim como a base de teste já criada."
   ]
  },
  {
   "cell_type": "code",
   "execution_count": 85,
   "metadata": {
    "id": "GbEtPmC7vO6c"
   },
   "outputs": [
    {
     "name": "stdout",
     "output_type": "stream",
     "text": [
      "(341, 30) (341,)\n",
      "(114, 30) (114,)\n"
     ]
    }
   ],
   "source": [
    "#Dividindo a base de treino (com seleção de instâncias aleatória)\n",
    "X_train, X_val, y_train, y_val = train_test_split(X_train, y_train, test_size=0.25, random_state = 42)\n",
    "\n",
    "#Checando a divisão das instâncias entre as duas bases\n",
    "print(X_train.shape, y_train.shape)\n",
    "print(X_val.shape, y_val.shape)"
   ]
  },
  {
   "cell_type": "markdown",
   "metadata": {
    "id": "Nys7J3CqrJ1B"
   },
   "source": [
    "Vamos iniciar com o método de **Árvore de Decisão**. \n",
    "\n",
    "Na próxima célula nós temos: a criação do modelo de árvore, o treinamento do modelo, a predição do modelo na base de validação, e o cálculo e exibição da acurácia do modelo de Árvore de Decisão na base de treinamento e na base de validação.\n",
    "\n",
    "Você deve fazer **cinco** execuções variando o valor de max_depth nos seguintes valores de 1 a 5.\n",
    "\n",
    "O valor que produzir melhor acurácia na validação deverá ser escolhido para avaliar a base de teste. Caso haja empate, escolha um dos valores empatados de forma aleatória."
   ]
  },
  {
   "cell_type": "code",
   "execution_count": 86,
   "metadata": {},
   "outputs": [
    {
     "name": "stdout",
     "output_type": "stream",
     "text": [
      "\n",
      "Para profundidade = 1 , temos:\n",
      "Teste: 0.9122807017543859\n",
      "Validação: 0.9122807017543859\n",
      "\n",
      "Para profundidade = 2 , temos:\n",
      "Teste: 0.956140350877193\n",
      "Validação: 0.9122807017543859\n",
      "\n",
      "Para profundidade = 3 , temos:\n",
      "Teste: 0.956140350877193\n",
      "Validação: 0.9210526315789473\n",
      "\n",
      "Para profundidade = 4 , temos:\n",
      "Teste: 0.9473684210526315\n",
      "Validação: 0.9122807017543859\n",
      "\n",
      "Para profundidade = 5 , temos:\n",
      "Teste: 0.956140350877193\n",
      "Validação: 0.9210526315789473\n"
     ]
    }
   ],
   "source": [
    "from sklearn import tree\n",
    "\n",
    "list_val = []\n",
    "list_test = []\n",
    "\n",
    "for i in range(1, 6):\n",
    "    print(\"\\nPara profundidade =\", i, \", temos:\")\n",
    "    treino = tree.DecisionTreeClassifier(max_depth = i)\n",
    "    treino.fit(X_train, y_train)\n",
    "\n",
    "    print(\"Teste:\", treino.score(X_test, y_test))\n",
    "    list_test.append(treino.score(X_test, y_test))\n",
    "    \n",
    "    print(\"Validação:\", treino.score(X_val, y_val))\n",
    "    list_val.append(treino.score(X_val, y_val))"
   ]
  },
  {
   "cell_type": "code",
   "execution_count": 87,
   "metadata": {
    "scrolled": true
   },
   "outputs": [
    {
     "name": "stdout",
     "output_type": "stream",
     "text": [
      "Máxima acurácia de validação na árvore: 0.9210526315789473\n"
     ]
    }
   ],
   "source": [
    "print(\"Máxima acurácia de validação na árvore:\", max(list_val))"
   ]
  },
  {
   "cell_type": "markdown",
   "metadata": {
    "id": "37bmHm7croXw"
   },
   "source": [
    "Vamos fazer o mesmo processo com o método de **kNN**. \n",
    "\n",
    "Você deve fazer execuções variando o valor de *n_neighbors* nos seguintes valores: de 1 a 9.\n",
    "O valor que produzir melhor acurácia na validação deverá ser escolhido para avaliar a base de teste. Caso haja empate, escolha um dos valores empatados de forma aleatória."
   ]
  },
  {
   "cell_type": "code",
   "execution_count": 88,
   "metadata": {
    "scrolled": false
   },
   "outputs": [
    {
     "name": "stdout",
     "output_type": "stream",
     "text": [
      "\n",
      "Para k = 1 , temos:\n",
      "Teste: 0.9385964912280702\n",
      "Validação: 0.9298245614035088\n",
      "\n",
      "Para k = 2 , temos:\n",
      "Teste: 0.9298245614035088\n",
      "Validação: 0.9122807017543859\n",
      "\n",
      "Para k = 3 , temos:\n",
      "Teste: 0.9473684210526315\n",
      "Validação: 0.9385964912280702\n",
      "\n",
      "Para k = 4 , temos:\n",
      "Teste: 0.956140350877193\n",
      "Validação: 0.9210526315789473\n",
      "\n",
      "Para k = 5 , temos:\n",
      "Teste: 0.9649122807017544\n",
      "Validação: 0.9298245614035088\n",
      "\n",
      "Para k = 6 , temos:\n",
      "Teste: 0.956140350877193\n",
      "Validação: 0.9385964912280702\n",
      "\n",
      "Para k = 7 , temos:\n",
      "Teste: 0.9736842105263158\n",
      "Validação: 0.9385964912280702\n",
      "\n",
      "Para k = 8 , temos:\n",
      "Teste: 0.9649122807017544\n",
      "Validação: 0.9385964912280702\n",
      "\n",
      "Para k = 9 , temos:\n",
      "Teste: 0.9824561403508771\n",
      "Validação: 0.9298245614035088\n"
     ]
    }
   ],
   "source": [
    "list_valknn = []\n",
    "list_testknn = []\n",
    "\n",
    "for i in range(1, 10):\n",
    "    print(\"\\nPara k =\", i, \", temos:\")\n",
    "    knn = KNeighborsClassifier(n_neighbors=i)\n",
    "    knn.fit(X_train, y_train)\n",
    "\n",
    "    print(\"Teste:\", knn.score(X_test, y_test))\n",
    "    list_testknn.append(knn.score(X_test, y_test))\n",
    "    \n",
    "    print(\"Validação:\", knn.score(X_val, y_val))\n",
    "    list_valknn.append(knn.score(X_val, y_val))"
   ]
  },
  {
   "cell_type": "code",
   "execution_count": 89,
   "metadata": {},
   "outputs": [
    {
     "name": "stdout",
     "output_type": "stream",
     "text": [
      "Máxima acurácia de validação em kNN: 0.9385964912280702\n"
     ]
    }
   ],
   "source": [
    "print(\"Máxima acurácia de validação em kNN:\", max(list_valknn))"
   ]
  },
  {
   "cell_type": "markdown",
   "metadata": {
    "id": "Ud_kPz6SrwpY"
   },
   "source": [
    "Por fim, vamos fazer o mesmo processo com o método de **Naive Bayes**, sem ajuste de hiperparâmetros. \n"
   ]
  },
  {
   "cell_type": "code",
   "execution_count": 90,
   "metadata": {},
   "outputs": [
    {
     "name": "stdout",
     "output_type": "stream",
     "text": [
      "Teste: 0.9649122807017544\n",
      "Validação: 0.9210526315789473\n"
     ]
    }
   ],
   "source": [
    "from sklearn.naive_bayes import GaussianNB\n",
    "\n",
    "nb = GaussianNB()\n",
    "nb.fit(X_train, y_train)\n",
    "\n",
    "print(\"Teste:\", nb.score(X_test, y_test))\n",
    "\n",
    "nb_val = nb.score(X_val, y_val)\n",
    "print(\"Validação:\", nb.score(X_val, y_val))"
   ]
  },
  {
   "cell_type": "markdown",
   "metadata": {
    "id": "9OtLpdq5sDW4"
   },
   "source": [
    "**Tarefa 3:** Qual dos algoritmos de Aprendizagem de Máquina apresentou melhor resultado? Apesente os resultados de comparação."
   ]
  },
  {
   "cell_type": "code",
   "execution_count": 91,
   "metadata": {
    "id": "MflKLk9OlU77",
    "scrolled": true
   },
   "outputs": [
    {
     "name": "stdout",
     "output_type": "stream",
     "text": [
      "Máxima acurácia de validação na árvore: 0.9210526315789473\n",
      "Máxima acurácia de validação em kNN: 0.9385964912280702\n",
      "Acurácia de Naive Bayes: 0.9210526315789473\n"
     ]
    }
   ],
   "source": [
    "print(\"Máxima acurácia de validação na árvore:\", max(list_val))\n",
    "print(\"Máxima acurácia de validação em kNN:\", max(list_valknn))\n",
    "print(\"Acurácia de Naive Bayes:\", nb_val)"
   ]
  },
  {
   "cell_type": "code",
   "execution_count": 112,
   "metadata": {},
   "outputs": [
    {
     "name": "stdout",
     "output_type": "stream",
     "text": [
      "[3, 6, 7, 8]\n"
     ]
    },
    {
     "data": {
      "text/plain": [
       "7"
      ]
     },
     "execution_count": 112,
     "metadata": {},
     "output_type": "execute_result"
    }
   ],
   "source": [
    "ocorrencia = []\n",
    "\n",
    "for i in range(len(list_valknn)):\n",
    "    if(list_valknn[i] == max(list_valknn)):\n",
    "        ocorrencia.append(i + 1)\n",
    "        \n",
    "print(ocorrencia)\n",
    "\n",
    "random.choice(ocorrencia)"
   ]
  },
  {
   "cell_type": "markdown",
   "metadata": {},
   "source": [
    "Resposta 3: Como mostrado acima, a máxima acurácia na base de validação dentre os três modelos é 0.9385964912280702, que é o valor de k = 7."
   ]
  }
 ],
 "metadata": {
  "colab": {
   "provenance": []
  },
  "kernelspec": {
   "display_name": "Python 3 (ipykernel)",
   "language": "python",
   "name": "python3"
  },
  "language_info": {
   "codemirror_mode": {
    "name": "ipython",
    "version": 3
   },
   "file_extension": ".py",
   "mimetype": "text/x-python",
   "name": "python",
   "nbconvert_exporter": "python",
   "pygments_lexer": "ipython3",
   "version": "3.10.9"
  }
 },
 "nbformat": 4,
 "nbformat_minor": 1
}
