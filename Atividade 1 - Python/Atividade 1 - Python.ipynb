{
 "cells": [
  {
   "cell_type": "markdown",
   "metadata": {},
   "source": [
    "# Atividade 1"
   ]
  },
  {
   "cell_type": "markdown",
   "metadata": {},
   "source": [
    "**Data:**  05/04/2023\n",
    "**Nome:**  Gabriel Toshiyuki Batista Toyoda"
   ]
  },
  {
   "cell_type": "markdown",
   "metadata": {},
   "source": [
    "## Instruções\n",
    "\n",
    "Este *notebook* contém os enunciados da primeira atividade da disciplina e faz parte da avaliação.\n",
    "\n",
    "Para completar a atividade, acrescente suas próprias células com as respostas.\n",
    "\n",
    "Algumas respostas devem ser no formato de texto e outras devem ser código Python. Utilize as ferramentas do *notebook* adequadamente, empregando *markdown* quando necessário.\n",
    "\n",
    "Todas as atividades devem ser submetidas através do ColabWeb."
   ]
  },
  {
   "cell_type": "markdown",
   "metadata": {},
   "source": [
    "## Parte 1: Jupyter e Markdown"
   ]
  },
  {
   "cell_type": "markdown",
   "metadata": {},
   "source": [
    "<div style=\"background-color: #E2A038; border: #E2A038 solid 1px; margin-left: 2em; padding-left: 5px\"><div style=\"background-color: #F5EEE3; width: 100%; padding: 10px\">\n",
    "Crie uma célula *markdown* abaixo e faça uma lista descritiva contendo:\n",
    "\n",
    "<ul>\n",
    "<li>**Nome**: seu nome\n",
    "<li>**Trabalho**: seu local de trabalho\n",
    "<li>**Atividades**: uma descrição muito breve do que você faz\n",
    "</ul>\n",
    "\n",
    "Você pode criar uma célula abaixo através do menu ou através do atalho `B`. A célula será criada como um local para inserir código Python. Você pode convertê-la para uma célula *markdown* através dos menus ou através do atalho `m`. Recomendo que se familiarize com os atalhos até que eles se tornem naturais.\n",
    "</div></div>"
   ]
  },
  {
   "cell_type": "markdown",
   "metadata": {},
   "source": [
    "<div style=\"background-color: #E2A038; border: #E2A038 solid 1px; margin-left: 2em; padding-left: 5px\"><div style=\"background-color: #F5EEE3; width: 100%; padding: 10px\">\n",
    "Utilize o atalho `m` para converter a célula abaixo em uma célula *markdown*.</div></div>"
   ]
  },
  {
   "cell_type": "markdown",
   "metadata": {},
   "source": [
    "<li>Nome: Gabriel Toshiyuki Batista Toyoda\n",
    "<li>Trabalho: nenhum\n",
    "<li>Atividades: estudo na UFAM"
   ]
  },
  {
   "cell_type": "markdown",
   "metadata": {},
   "source": [
    "<div style=\"background-color: #E2A038; border: #E2A038 solid 1px; margin-left: 2em; padding-left: 5px\"><div style=\"background-color: #F5EEE3; width: 100%; padding: 10px\">\n",
    "Utilize o atalho `y` para converter a célula abaixo em uma célula de código Python.\n",
    "</div></div>"
   ]
  },
  {
   "cell_type": "code",
   "execution_count": 2,
   "metadata": {},
   "outputs": [
    {
     "name": "stdout",
     "output_type": "stream",
     "text": [
      "Esta célula código Python, mas ele não será executado porque a célula está definida como markdown\n"
     ]
    }
   ],
   "source": [
    "print(\"Esta célula código Python, mas ele não será executado porque a célula está definida como markdown\")"
   ]
  },
  {
   "cell_type": "markdown",
   "metadata": {},
   "source": [
    "<div style=\"background-color: #E2A038; border: #E2A038 solid 1px; margin-left: 2em; padding-left: 5px\"><div style=\"background-color: #F5EEE3; width: 100%; padding: 10px\">\n",
    "Utilize o atalho `CTRL`+`SHIFT`+`-` para quebrar a célula abaixo em duas.\n",
    "</div></div>"
   ]
  },
  {
   "cell_type": "markdown",
   "metadata": {},
   "source": [
    "Esta célula mistura *markdown* e Python e, portanto, está incorreta."
   ]
  },
  {
   "cell_type": "code",
   "execution_count": 4,
   "metadata": {},
   "outputs": [
    {
     "name": "stdout",
     "output_type": "stream",
     "text": [
      "Hello, world!\n"
     ]
    }
   ],
   "source": [
    "print(\"Hello, world!\")"
   ]
  },
  {
   "cell_type": "markdown",
   "metadata": {},
   "source": [
    "<div style=\"background-color: #E2A038; border: #E2A038 solid 1px; margin-left: 2em; padding-left: 5px\"><div style=\"background-color: #F5EEE3; width: 100%; padding: 10px\">\n",
    "Utilize o atalho `CTRL`+`SHIFT`+`-` para quebrar a célula abaixo em duas.\n",
    "</div></div>"
   ]
  },
  {
   "cell_type": "markdown",
   "metadata": {},
   "source": [
    "Esta célula contém *markdown*, mas ela mistura conceitos diferentes.\n",
    "\n",
    "Até aqui, a célula está discutindo conceitos de *markdown*, porém a partir do parágrafo seguinte, estamos discutindo atividades Python.\n",
    "\n",
    "O ideal é quebrar as células para dar-lhes semântica apropriada."
   ]
  },
  {
   "cell_type": "markdown",
   "metadata": {},
   "source": [
    "## Parte 2: Conceitos de Python"
   ]
  },
  {
   "cell_type": "markdown",
   "metadata": {},
   "source": [
    "<div style=\"background-color: #E2A038; border: #E2A038 solid 1px; margin-left: 2em; padding-left: 5px\"><div style=\"background-color: #F5EEE3; width: 100%; padding: 10px\">\n",
    "Utilize a função `help` para obter uma descrição da classe `str`.</div></div>"
   ]
  },
  {
   "cell_type": "code",
   "execution_count": 5,
   "metadata": {},
   "outputs": [
    {
     "name": "stdout",
     "output_type": "stream",
     "text": [
      "Help on class str in module builtins:\n",
      "\n",
      "class str(object)\n",
      " |  str(object='') -> str\n",
      " |  str(bytes_or_buffer[, encoding[, errors]]) -> str\n",
      " |  \n",
      " |  Create a new string object from the given object. If encoding or\n",
      " |  errors is specified, then the object must expose a data buffer\n",
      " |  that will be decoded using the given encoding and error handler.\n",
      " |  Otherwise, returns the result of object.__str__() (if defined)\n",
      " |  or repr(object).\n",
      " |  encoding defaults to sys.getdefaultencoding().\n",
      " |  errors defaults to 'strict'.\n",
      " |  \n",
      " |  Methods defined here:\n",
      " |  \n",
      " |  __add__(self, value, /)\n",
      " |      Return self+value.\n",
      " |  \n",
      " |  __contains__(self, key, /)\n",
      " |      Return key in self.\n",
      " |  \n",
      " |  __eq__(self, value, /)\n",
      " |      Return self==value.\n",
      " |  \n",
      " |  __format__(self, format_spec, /)\n",
      " |      Return a formatted version of the string as described by format_spec.\n",
      " |  \n",
      " |  __ge__(self, value, /)\n",
      " |      Return self>=value.\n",
      " |  \n",
      " |  __getattribute__(self, name, /)\n",
      " |      Return getattr(self, name).\n",
      " |  \n",
      " |  __getitem__(self, key, /)\n",
      " |      Return self[key].\n",
      " |  \n",
      " |  __getnewargs__(...)\n",
      " |  \n",
      " |  __gt__(self, value, /)\n",
      " |      Return self>value.\n",
      " |  \n",
      " |  __hash__(self, /)\n",
      " |      Return hash(self).\n",
      " |  \n",
      " |  __iter__(self, /)\n",
      " |      Implement iter(self).\n",
      " |  \n",
      " |  __le__(self, value, /)\n",
      " |      Return self<=value.\n",
      " |  \n",
      " |  __len__(self, /)\n",
      " |      Return len(self).\n",
      " |  \n",
      " |  __lt__(self, value, /)\n",
      " |      Return self<value.\n",
      " |  \n",
      " |  __mod__(self, value, /)\n",
      " |      Return self%value.\n",
      " |  \n",
      " |  __mul__(self, value, /)\n",
      " |      Return self*value.\n",
      " |  \n",
      " |  __ne__(self, value, /)\n",
      " |      Return self!=value.\n",
      " |  \n",
      " |  __repr__(self, /)\n",
      " |      Return repr(self).\n",
      " |  \n",
      " |  __rmod__(self, value, /)\n",
      " |      Return value%self.\n",
      " |  \n",
      " |  __rmul__(self, value, /)\n",
      " |      Return value*self.\n",
      " |  \n",
      " |  __sizeof__(self, /)\n",
      " |      Return the size of the string in memory, in bytes.\n",
      " |  \n",
      " |  __str__(self, /)\n",
      " |      Return str(self).\n",
      " |  \n",
      " |  capitalize(self, /)\n",
      " |      Return a capitalized version of the string.\n",
      " |      \n",
      " |      More specifically, make the first character have upper case and the rest lower\n",
      " |      case.\n",
      " |  \n",
      " |  casefold(self, /)\n",
      " |      Return a version of the string suitable for caseless comparisons.\n",
      " |  \n",
      " |  center(self, width, fillchar=' ', /)\n",
      " |      Return a centered string of length width.\n",
      " |      \n",
      " |      Padding is done using the specified fill character (default is a space).\n",
      " |  \n",
      " |  count(...)\n",
      " |      S.count(sub[, start[, end]]) -> int\n",
      " |      \n",
      " |      Return the number of non-overlapping occurrences of substring sub in\n",
      " |      string S[start:end].  Optional arguments start and end are\n",
      " |      interpreted as in slice notation.\n",
      " |  \n",
      " |  encode(self, /, encoding='utf-8', errors='strict')\n",
      " |      Encode the string using the codec registered for encoding.\n",
      " |      \n",
      " |      encoding\n",
      " |        The encoding in which to encode the string.\n",
      " |      errors\n",
      " |        The error handling scheme to use for encoding errors.\n",
      " |        The default is 'strict' meaning that encoding errors raise a\n",
      " |        UnicodeEncodeError.  Other possible values are 'ignore', 'replace' and\n",
      " |        'xmlcharrefreplace' as well as any other name registered with\n",
      " |        codecs.register_error that can handle UnicodeEncodeErrors.\n",
      " |  \n",
      " |  endswith(...)\n",
      " |      S.endswith(suffix[, start[, end]]) -> bool\n",
      " |      \n",
      " |      Return True if S ends with the specified suffix, False otherwise.\n",
      " |      With optional start, test S beginning at that position.\n",
      " |      With optional end, stop comparing S at that position.\n",
      " |      suffix can also be a tuple of strings to try.\n",
      " |  \n",
      " |  expandtabs(self, /, tabsize=8)\n",
      " |      Return a copy where all tab characters are expanded using spaces.\n",
      " |      \n",
      " |      If tabsize is not given, a tab size of 8 characters is assumed.\n",
      " |  \n",
      " |  find(...)\n",
      " |      S.find(sub[, start[, end]]) -> int\n",
      " |      \n",
      " |      Return the lowest index in S where substring sub is found,\n",
      " |      such that sub is contained within S[start:end].  Optional\n",
      " |      arguments start and end are interpreted as in slice notation.\n",
      " |      \n",
      " |      Return -1 on failure.\n",
      " |  \n",
      " |  format(...)\n",
      " |      S.format(*args, **kwargs) -> str\n",
      " |      \n",
      " |      Return a formatted version of S, using substitutions from args and kwargs.\n",
      " |      The substitutions are identified by braces ('{' and '}').\n",
      " |  \n",
      " |  format_map(...)\n",
      " |      S.format_map(mapping) -> str\n",
      " |      \n",
      " |      Return a formatted version of S, using substitutions from mapping.\n",
      " |      The substitutions are identified by braces ('{' and '}').\n",
      " |  \n",
      " |  index(...)\n",
      " |      S.index(sub[, start[, end]]) -> int\n",
      " |      \n",
      " |      Return the lowest index in S where substring sub is found,\n",
      " |      such that sub is contained within S[start:end].  Optional\n",
      " |      arguments start and end are interpreted as in slice notation.\n",
      " |      \n",
      " |      Raises ValueError when the substring is not found.\n",
      " |  \n",
      " |  isalnum(self, /)\n",
      " |      Return True if the string is an alpha-numeric string, False otherwise.\n",
      " |      \n",
      " |      A string is alpha-numeric if all characters in the string are alpha-numeric and\n",
      " |      there is at least one character in the string.\n",
      " |  \n",
      " |  isalpha(self, /)\n",
      " |      Return True if the string is an alphabetic string, False otherwise.\n",
      " |      \n",
      " |      A string is alphabetic if all characters in the string are alphabetic and there\n",
      " |      is at least one character in the string.\n",
      " |  \n",
      " |  isascii(self, /)\n",
      " |      Return True if all characters in the string are ASCII, False otherwise.\n",
      " |      \n",
      " |      ASCII characters have code points in the range U+0000-U+007F.\n",
      " |      Empty string is ASCII too.\n",
      " |  \n",
      " |  isdecimal(self, /)\n",
      " |      Return True if the string is a decimal string, False otherwise.\n",
      " |      \n",
      " |      A string is a decimal string if all characters in the string are decimal and\n",
      " |      there is at least one character in the string.\n",
      " |  \n",
      " |  isdigit(self, /)\n",
      " |      Return True if the string is a digit string, False otherwise.\n",
      " |      \n",
      " |      A string is a digit string if all characters in the string are digits and there\n",
      " |      is at least one character in the string.\n",
      " |  \n",
      " |  isidentifier(self, /)\n",
      " |      Return True if the string is a valid Python identifier, False otherwise.\n",
      " |      \n",
      " |      Call keyword.iskeyword(s) to test whether string s is a reserved identifier,\n",
      " |      such as \"def\" or \"class\".\n",
      " |  \n",
      " |  islower(self, /)\n",
      " |      Return True if the string is a lowercase string, False otherwise.\n",
      " |      \n",
      " |      A string is lowercase if all cased characters in the string are lowercase and\n",
      " |      there is at least one cased character in the string.\n",
      " |  \n",
      " |  isnumeric(self, /)\n",
      " |      Return True if the string is a numeric string, False otherwise.\n",
      " |      \n",
      " |      A string is numeric if all characters in the string are numeric and there is at\n",
      " |      least one character in the string.\n",
      " |  \n",
      " |  isprintable(self, /)\n",
      " |      Return True if the string is printable, False otherwise.\n",
      " |      \n",
      " |      A string is printable if all of its characters are considered printable in\n",
      " |      repr() or if it is empty.\n",
      " |  \n",
      " |  isspace(self, /)\n",
      " |      Return True if the string is a whitespace string, False otherwise.\n",
      " |      \n",
      " |      A string is whitespace if all characters in the string are whitespace and there\n",
      " |      is at least one character in the string.\n",
      " |  \n",
      " |  istitle(self, /)\n",
      " |      Return True if the string is a title-cased string, False otherwise.\n",
      " |      \n",
      " |      In a title-cased string, upper- and title-case characters may only\n",
      " |      follow uncased characters and lowercase characters only cased ones.\n",
      " |  \n",
      " |  isupper(self, /)\n",
      " |      Return True if the string is an uppercase string, False otherwise.\n",
      " |      \n",
      " |      A string is uppercase if all cased characters in the string are uppercase and\n",
      " |      there is at least one cased character in the string.\n",
      " |  \n",
      " |  join(self, iterable, /)\n",
      " |      Concatenate any number of strings.\n",
      " |      \n",
      " |      The string whose method is called is inserted in between each given string.\n",
      " |      The result is returned as a new string.\n",
      " |      \n",
      " |      Example: '.'.join(['ab', 'pq', 'rs']) -> 'ab.pq.rs'\n",
      " |  \n",
      " |  ljust(self, width, fillchar=' ', /)\n",
      " |      Return a left-justified string of length width.\n",
      " |      \n",
      " |      Padding is done using the specified fill character (default is a space).\n",
      " |  \n",
      " |  lower(self, /)\n",
      " |      Return a copy of the string converted to lowercase.\n",
      " |  \n",
      " |  lstrip(self, chars=None, /)\n",
      " |      Return a copy of the string with leading whitespace removed.\n",
      " |      \n",
      " |      If chars is given and not None, remove characters in chars instead.\n",
      " |  \n",
      " |  partition(self, sep, /)\n",
      " |      Partition the string into three parts using the given separator.\n",
      " |      \n",
      " |      This will search for the separator in the string.  If the separator is found,\n",
      " |      returns a 3-tuple containing the part before the separator, the separator\n",
      " |      itself, and the part after it.\n",
      " |      \n",
      " |      If the separator is not found, returns a 3-tuple containing the original string\n",
      " |      and two empty strings.\n",
      " |  \n",
      " |  removeprefix(self, prefix, /)\n",
      " |      Return a str with the given prefix string removed if present.\n",
      " |      \n",
      " |      If the string starts with the prefix string, return string[len(prefix):].\n",
      " |      Otherwise, return a copy of the original string.\n",
      " |  \n",
      " |  removesuffix(self, suffix, /)\n",
      " |      Return a str with the given suffix string removed if present.\n",
      " |      \n",
      " |      If the string ends with the suffix string and that suffix is not empty,\n",
      " |      return string[:-len(suffix)]. Otherwise, return a copy of the original\n",
      " |      string.\n",
      " |  \n",
      " |  replace(self, old, new, count=-1, /)\n",
      " |      Return a copy with all occurrences of substring old replaced by new.\n",
      " |      \n",
      " |        count\n",
      " |          Maximum number of occurrences to replace.\n",
      " |          -1 (the default value) means replace all occurrences.\n",
      " |      \n",
      " |      If the optional argument count is given, only the first count occurrences are\n",
      " |      replaced.\n",
      " |  \n",
      " |  rfind(...)\n",
      " |      S.rfind(sub[, start[, end]]) -> int\n",
      " |      \n",
      " |      Return the highest index in S where substring sub is found,\n",
      " |      such that sub is contained within S[start:end].  Optional\n",
      " |      arguments start and end are interpreted as in slice notation.\n",
      " |      \n",
      " |      Return -1 on failure.\n",
      " |  \n",
      " |  rindex(...)\n",
      " |      S.rindex(sub[, start[, end]]) -> int\n",
      " |      \n",
      " |      Return the highest index in S where substring sub is found,\n",
      " |      such that sub is contained within S[start:end].  Optional\n",
      " |      arguments start and end are interpreted as in slice notation.\n",
      " |      \n",
      " |      Raises ValueError when the substring is not found.\n",
      " |  \n",
      " |  rjust(self, width, fillchar=' ', /)\n",
      " |      Return a right-justified string of length width.\n",
      " |      \n",
      " |      Padding is done using the specified fill character (default is a space).\n",
      " |  \n",
      " |  rpartition(self, sep, /)\n",
      " |      Partition the string into three parts using the given separator.\n",
      " |      \n",
      " |      This will search for the separator in the string, starting at the end. If\n",
      " |      the separator is found, returns a 3-tuple containing the part before the\n",
      " |      separator, the separator itself, and the part after it.\n",
      " |      \n",
      " |      If the separator is not found, returns a 3-tuple containing two empty strings\n",
      " |      and the original string.\n",
      " |  \n",
      " |  rsplit(self, /, sep=None, maxsplit=-1)\n",
      " |      Return a list of the substrings in the string, using sep as the separator string.\n",
      " |      \n",
      " |        sep\n",
      " |          The separator used to split the string.\n",
      " |      \n",
      " |          When set to None (the default value), will split on any whitespace\n",
      " |          character (including \\\\n \\\\r \\\\t \\\\f and spaces) and will discard\n",
      " |          empty strings from the result.\n",
      " |        maxsplit\n",
      " |          Maximum number of splits (starting from the left).\n",
      " |          -1 (the default value) means no limit.\n",
      " |      \n",
      " |      Splitting starts at the end of the string and works to the front.\n",
      " |  \n",
      " |  rstrip(self, chars=None, /)\n",
      " |      Return a copy of the string with trailing whitespace removed.\n",
      " |      \n",
      " |      If chars is given and not None, remove characters in chars instead.\n",
      " |  \n",
      " |  split(self, /, sep=None, maxsplit=-1)\n",
      " |      Return a list of the substrings in the string, using sep as the separator string.\n",
      " |      \n",
      " |        sep\n",
      " |          The separator used to split the string.\n",
      " |      \n",
      " |          When set to None (the default value), will split on any whitespace\n",
      " |          character (including \\\\n \\\\r \\\\t \\\\f and spaces) and will discard\n",
      " |          empty strings from the result.\n",
      " |        maxsplit\n",
      " |          Maximum number of splits (starting from the left).\n",
      " |          -1 (the default value) means no limit.\n",
      " |      \n",
      " |      Note, str.split() is mainly useful for data that has been intentionally\n",
      " |      delimited.  With natural text that includes punctuation, consider using\n",
      " |      the regular expression module.\n",
      " |  \n",
      " |  splitlines(self, /, keepends=False)\n",
      " |      Return a list of the lines in the string, breaking at line boundaries.\n",
      " |      \n",
      " |      Line breaks are not included in the resulting list unless keepends is given and\n",
      " |      true.\n",
      " |  \n",
      " |  startswith(...)\n",
      " |      S.startswith(prefix[, start[, end]]) -> bool\n",
      " |      \n",
      " |      Return True if S starts with the specified prefix, False otherwise.\n",
      " |      With optional start, test S beginning at that position.\n",
      " |      With optional end, stop comparing S at that position.\n",
      " |      prefix can also be a tuple of strings to try.\n",
      " |  \n",
      " |  strip(self, chars=None, /)\n",
      " |      Return a copy of the string with leading and trailing whitespace removed.\n",
      " |      \n",
      " |      If chars is given and not None, remove characters in chars instead.\n",
      " |  \n",
      " |  swapcase(self, /)\n",
      " |      Convert uppercase characters to lowercase and lowercase characters to uppercase.\n",
      " |  \n",
      " |  title(self, /)\n",
      " |      Return a version of the string where each word is titlecased.\n",
      " |      \n",
      " |      More specifically, words start with uppercased characters and all remaining\n",
      " |      cased characters have lower case.\n",
      " |  \n",
      " |  translate(self, table, /)\n",
      " |      Replace each character in the string using the given translation table.\n",
      " |      \n",
      " |        table\n",
      " |          Translation table, which must be a mapping of Unicode ordinals to\n",
      " |          Unicode ordinals, strings, or None.\n",
      " |      \n",
      " |      The table must implement lookup/indexing via __getitem__, for instance a\n",
      " |      dictionary or list.  If this operation raises LookupError, the character is\n",
      " |      left untouched.  Characters mapped to None are deleted.\n",
      " |  \n",
      " |  upper(self, /)\n",
      " |      Return a copy of the string converted to uppercase.\n",
      " |  \n",
      " |  zfill(self, width, /)\n",
      " |      Pad a numeric string with zeros on the left, to fill a field of the given width.\n",
      " |      \n",
      " |      The string is never truncated.\n",
      " |  \n",
      " |  ----------------------------------------------------------------------\n",
      " |  Static methods defined here:\n",
      " |  \n",
      " |  __new__(*args, **kwargs) from builtins.type\n",
      " |      Create and return a new object.  See help(type) for accurate signature.\n",
      " |  \n",
      " |  maketrans(...)\n",
      " |      Return a translation table usable for str.translate().\n",
      " |      \n",
      " |      If there is only one argument, it must be a dictionary mapping Unicode\n",
      " |      ordinals (integers) or characters to Unicode ordinals, strings or None.\n",
      " |      Character keys will be then converted to ordinals.\n",
      " |      If there are two arguments, they must be strings of equal length, and\n",
      " |      in the resulting dictionary, each character in x will be mapped to the\n",
      " |      character at the same position in y. If there is a third argument, it\n",
      " |      must be a string, whose characters will be mapped to None in the result.\n",
      "\n"
     ]
    }
   ],
   "source": [
    "help(str)"
   ]
  },
  {
   "cell_type": "markdown",
   "metadata": {},
   "source": [
    "<div style=\"background-color: #E2A038; border: #E2A038 solid 1px; margin-left: 2em; padding-left: 5px\"><div style=\"background-color: #F5EEE3; width: 100%; padding: 10px\">\n",
    "Utilize o atalho `?` para fazer a mesma coisa. Note que o Jupyter irá abrir uma pequena janela e o resultado não será salvo no *notebook*.\n",
    "</div></div>"
   ]
  },
  {
   "cell_type": "code",
   "execution_count": 62,
   "metadata": {},
   "outputs": [],
   "source": [
    "str?"
   ]
  },
  {
   "cell_type": "markdown",
   "metadata": {},
   "source": [
    "<div style=\"background-color: #E2A038; border: #E2A038 solid 1px; margin-left: 2em; padding-left: 5px\"><div style=\"background-color: #F5EEE3; width: 100%; padding: 10px\">\n",
    "Crie uma função que recebe argumentos posicionais para somar dois valores.\n",
    "</div></div>"
   ]
  },
  {
   "cell_type": "code",
   "execution_count": 63,
   "metadata": {},
   "outputs": [],
   "source": [
    "def soma(a, b):\n",
    "    return a + b"
   ]
  },
  {
   "cell_type": "markdown",
   "metadata": {},
   "source": [
    "<div style=\"background-color: #E2A038; border: #E2A038 solid 1px; margin-left: 2em; padding-left: 5px\"><div style=\"background-color: #F5EEE3; width: 100%; padding: 10px\">\n",
    "Utilize notação posicional e palavras-chave para chamar a sua função.\n",
    "</div></div>"
   ]
  },
  {
   "cell_type": "code",
   "execution_count": 64,
   "metadata": {},
   "outputs": [
    {
     "data": {
      "text/plain": [
       "1379"
      ]
     },
     "execution_count": 64,
     "metadata": {},
     "output_type": "execute_result"
    }
   ],
   "source": [
    "soma(1337, 42)"
   ]
  },
  {
   "cell_type": "markdown",
   "metadata": {},
   "source": [
    "<div style=\"background-color: #E2A038; border: #E2A038 solid 1px; margin-left: 2em; padding-left: 5px\"><div style=\"background-color: #F5EEE3; width: 100%; padding: 10px\">\n",
    "Importe os módulos `math` e `cmath`. Teste algumas funções desses módulos. Use a função `dir` para listar as funcionalidades desses módulos.\n",
    "</div></div>"
   ]
  },
  {
   "cell_type": "code",
   "execution_count": 18,
   "metadata": {},
   "outputs": [
    {
     "data": {
      "text/plain": [
       "['__doc__',\n",
       " '__loader__',\n",
       " '__name__',\n",
       " '__package__',\n",
       " '__spec__',\n",
       " 'acos',\n",
       " 'acosh',\n",
       " 'asin',\n",
       " 'asinh',\n",
       " 'atan',\n",
       " 'atanh',\n",
       " 'cos',\n",
       " 'cosh',\n",
       " 'e',\n",
       " 'exp',\n",
       " 'inf',\n",
       " 'infj',\n",
       " 'isclose',\n",
       " 'isfinite',\n",
       " 'isinf',\n",
       " 'isnan',\n",
       " 'log',\n",
       " 'log10',\n",
       " 'nan',\n",
       " 'nanj',\n",
       " 'phase',\n",
       " 'pi',\n",
       " 'polar',\n",
       " 'rect',\n",
       " 'sin',\n",
       " 'sinh',\n",
       " 'sqrt',\n",
       " 'tan',\n",
       " 'tanh',\n",
       " 'tau']"
      ]
     },
     "execution_count": 18,
     "metadata": {},
     "output_type": "execute_result"
    }
   ],
   "source": [
    "import math\n",
    "import cmath\n",
    "\n",
    "dir(math)\n",
    "dir(cmath)"
   ]
  },
  {
   "cell_type": "markdown",
   "metadata": {},
   "source": [
    "<div style=\"background-color: #E2A038; border: #E2A038 solid 1px; margin-left: 2em; padding-left: 5px\"><div style=\"background-color: #F5EEE3; width: 100%; padding: 10px\">\n",
    "Utilize as funções `sqrt` dos módulos `math` e `cmath`. Use a função `cmath.sqrt` para encontrar a raiz quadrada de `-1`.\n",
    "</div></div>"
   ]
  },
  {
   "cell_type": "code",
   "execution_count": 24,
   "metadata": {},
   "outputs": [
    {
     "data": {
      "text/plain": [
       "1j"
      ]
     },
     "execution_count": 24,
     "metadata": {},
     "output_type": "execute_result"
    }
   ],
   "source": [
    "cmath.sqrt(-1)\n",
    "\n",
    "##math.sqrt(-1)"
   ]
  },
  {
   "cell_type": "markdown",
   "metadata": {},
   "source": [
    "<div style=\"background-color: #E2A038; border: #E2A038 solid 1px; margin-left: 2em; padding-left: 5px\"><div style=\"background-color: #F5EEE3; width: 100%; padding: 10px\">\n",
    "Utilizando o comando `from math import *`, importe todos os nomes do módulo `math` diretamente para o espaço de nomes global. O que aconteceu? Tente encontrar a raiz quadrada de `-1`.\n",
    "</div></div>"
   ]
  },
  {
   "cell_type": "code",
   "execution_count": 36,
   "metadata": {},
   "outputs": [
    {
     "ename": "ValueError",
     "evalue": "math domain error",
     "output_type": "error",
     "traceback": [
      "\u001b[1;31m---------------------------------------------------------------------------\u001b[0m",
      "\u001b[1;31mValueError\u001b[0m                                Traceback (most recent call last)",
      "Cell \u001b[1;32mIn[36], line 3\u001b[0m\n\u001b[0;32m      1\u001b[0m \u001b[38;5;28;01mfrom\u001b[39;00m \u001b[38;5;21;01mmath\u001b[39;00m \u001b[38;5;28;01mimport\u001b[39;00m \u001b[38;5;241m*\u001b[39m\n\u001b[1;32m----> 3\u001b[0m \u001b[43msqrt\u001b[49m\u001b[43m(\u001b[49m\u001b[38;5;241;43m-\u001b[39;49m\u001b[38;5;241;43m1\u001b[39;49m\u001b[43m)\u001b[49m\n",
      "\u001b[1;31mValueError\u001b[0m: math domain error"
     ]
    }
   ],
   "source": [
    "from math import *\n",
    "\n",
    "sqrt(-1)"
   ]
  },
  {
   "cell_type": "markdown",
   "metadata": {},
   "source": [
    "<div style=\"background-color: #E2A038; border: #E2A038 solid 1px; margin-left: 2em; padding-left: 5px\"><div style=\"background-color: #F5EEE3; width: 100%; padding: 10px\">\n",
    "Explique com suas palavras o comportamento que você observou ao tentar encontrar a raiz quadrada de `-1`.\n",
    "</div></div>"
   ]
  },
  {
   "cell_type": "markdown",
   "metadata": {},
   "source": [
    "Ao usar a biblioteca math a qual abrange apenas os reais, o código dá \"math domain error\" já que o resultado de sqrt(-1) é o número complexo i, que está fora do domínio dos reais. No entanto, ao usar a biblioteca cmath dos números complexos, cmath.sqrt(-1) retorna 1j."
   ]
  },
  {
   "cell_type": "markdown",
   "metadata": {},
   "source": [
    "<div style=\"background-color: #E2A038; border: #E2A038 solid 1px; margin-left: 2em; padding-left: 5px\"><div style=\"background-color: #F5EEE3; width: 100%; padding: 10px\">\n",
    "Acrescente uma *docstring* à função abaixo para explicar o que ela faz e quais são seus argumentos.\n",
    "</div></div>"
   ]
  },
  {
   "cell_type": "code",
   "execution_count": 66,
   "metadata": {},
   "outputs": [
    {
     "name": "stdout",
     "output_type": "stream",
     "text": [
      "isso é uma função de inserção em fila\n"
     ]
    }
   ],
   "source": [
    "def fila_insere(f, v):\n",
    "    '''isso é uma função de inserção em fila'''\n",
    "    f.append(v)\n",
    "    return f\n",
    "\n",
    "print(fila_insere.__doc__)"
   ]
  },
  {
   "cell_type": "markdown",
   "metadata": {},
   "source": [
    "## Parte 3: programação funcional"
   ]
  },
  {
   "cell_type": "markdown",
   "metadata": {},
   "source": [
    "<div style=\"background-color: #E2A038; border: #E2A038 solid 1px; margin-left: 2em; padding-left: 5px\"><div style=\"background-color: #F5EEE3; width: 100%; padding: 10px\">\n",
    "Utilize compreensão de listas para gerar uma lista contendo a sequência dos números pares no intervalo $[0, 10)$</div></div>"
   ]
  },
  {
   "cell_type": "code",
   "execution_count": 42,
   "metadata": {},
   "outputs": [
    {
     "name": "stdout",
     "output_type": "stream",
     "text": [
      "[0, 2, 4, 6, 8]\n"
     ]
    }
   ],
   "source": [
    "lista = []\n",
    "lista = [numero for numero in range(10) if numero % 2 == 0]\n",
    "    \n",
    "print(lista)"
   ]
  },
  {
   "cell_type": "markdown",
   "metadata": {},
   "source": [
    "<div style=\"background-color: #E2A038; border: #E2A038 solid 1px; margin-left: 2em; padding-left: 5px\"><div style=\"background-color: #F5EEE3; width: 100%; padding: 10px\">\n",
    "Complete a célula abaixo utilizando compreensão de listas para gerar uma sequência de 30 números inteiros aleatórios no intervalo $[1, 10]$.\n",
    "</div></div>"
   ]
  },
  {
   "cell_type": "code",
   "execution_count": 81,
   "metadata": {},
   "outputs": [
    {
     "name": "stdout",
     "output_type": "stream",
     "text": [
      "[10, 9, 6, 10, 10, 3, 6, 7, 6, 5, 7, 4, 6, 2, 7, 7, 2, 9, 6, 7, 7, 5, 1, 6, 10, 2, 8, 4, 3, 6]\n"
     ]
    }
   ],
   "source": [
    "import random\n",
    "\n",
    "rng = random.Random(1337)\n",
    "\n",
    "lista = [rng.randint(1, 10) for i in range(30)]\n",
    "print(lista)"
   ]
  },
  {
   "cell_type": "markdown",
   "metadata": {},
   "source": [
    "<div style=\"background-color: #E2A038; border: #E2A038 solid 1px; margin-left: 2em; padding-left: 5px\"><div style=\"background-color: #F5EEE3; width: 100%; padding: 10px\">\n",
    "Utilizando *lambda*, faça um mapeamento de graus para radianos. Gere o intervalo $[-2\\pi, 2\\pi)$.\n",
    "</div></div>"
   ]
  },
  {
   "cell_type": "code",
   "execution_count": 55,
   "metadata": {
    "scrolled": true
   },
   "outputs": [
    {
     "name": "stdout",
     "output_type": "stream",
     "text": [
      "[-6.283185307179586, -6.021385919380437, -5.759586531581287, -5.497787143782138, -5.23598775598299, -4.97418836818384, -4.71238898038469, -4.4505895925855405, -4.1887902047863905, -3.9269908169872414, -3.6651914291880923, -3.4033920413889422, -3.141592653589793, -2.8797932657906435, -2.617993877991495, -2.356194490192345, -2.0943951023931953, -1.8325957145940461, -1.5707963267948966, -1.3089969389957474, -1.0471975511965976, -0.7853981633974483, -0.5235987755982988, -0.2617993877991494, 0.0, 0.2617993877991494, 0.5235987755982988, 0.7853981633974483, 1.0471975511965976, 1.3089969389957474, 1.5707963267948966, 1.8325957145940461, 2.0943951023931953, 2.356194490192345, 2.617993877991495, 2.8797932657906435, 3.141592653589793, 3.4033920413889422, 3.6651914291880923, 3.9269908169872414, 4.1887902047863905, 4.4505895925855405, 4.71238898038469, 4.97418836818384, 5.23598775598299, 5.497787143782138, 5.759586531581287, 6.021385919380437, 6.283185307179586]\n"
     ]
    }
   ],
   "source": [
    "import math\n",
    "\n",
    "pGraus = lambda g: g*360/(2*math.pi)\n",
    "pRad = lambda r: r*2*math.pi/360\n",
    "numbers = [pRad(i) for i in range(-360, 361, 15)]\n",
    "\n",
    "numbers = list(map(pGraus, numbers))\n",
    "\n",
    "x = list(map(pRad, numbers))\n",
    "\n",
    "print(x)\n",
    "\n",
    "##filter, map e reduce"
   ]
  },
  {
   "cell_type": "markdown",
   "metadata": {},
   "source": [
    "<div style=\"background-color: #E2A038; border: #E2A038 solid 1px; margin-left: 2em; padding-left: 5px\"><div style=\"background-color: #F5EEE3; width: 100%; padding: 10px\">\n",
    "Utilizando as funções `math.sin` e `math.cos` como argumento de `map`, calcule os valores de seno e cosseno para o intervalo `x` que você encontrou.\n",
    "</div></div>"
   ]
  },
  {
   "cell_type": "code",
   "execution_count": 59,
   "metadata": {},
   "outputs": [
    {
     "name": "stdout",
     "output_type": "stream",
     "text": [
      "[2.4492935982947064e-16, 0.2588190451025207, 0.5000000000000004, 0.7071067811865477, 0.8660254037844382, 0.9659258262890682, 1.0, 0.9659258262890683, 0.8660254037844385, 0.7071067811865475, 0.5000000000000001, 0.25881904510252035, -1.2246467991473532e-16, -0.258819045102521, -0.49999999999999956, -0.7071067811865476, -0.8660254037844387, -0.9659258262890683, -1.0, -0.9659258262890683, -0.8660254037844386, -0.7071067811865476, -0.49999999999999994, -0.25881904510252074, 0.0, 0.25881904510252074, 0.49999999999999994, 0.7071067811865476, 0.8660254037844386, 0.9659258262890683, 1.0, 0.9659258262890683, 0.8660254037844387, 0.7071067811865476, 0.49999999999999956, 0.258819045102521, 1.2246467991473532e-16, -0.25881904510252035, -0.5000000000000001, -0.7071067811865475, -0.8660254037844385, -0.9659258262890683, -1.0, -0.9659258262890682, -0.8660254037844382, -0.7071067811865477, -0.5000000000000004, -0.2588190451025207, -2.4492935982947064e-16] [1.0, 0.9659258262890683, 0.8660254037844384, 0.7071067811865474, 0.5000000000000009, 0.25881904510252113, -1.8369701987210297e-16, -0.25881904510252063, -0.5000000000000004, -0.7071067811865477, -0.8660254037844386, -0.9659258262890684, -1.0, -0.9659258262890682, -0.8660254037844389, -0.7071067811865475, -0.4999999999999998, -0.25881904510252085, 6.123233995736766e-17, 0.2588190451025205, 0.5000000000000001, 0.7071067811865476, 0.8660254037844387, 0.9659258262890683, 1.0, 0.9659258262890683, 0.8660254037844387, 0.7071067811865476, 0.5000000000000001, 0.2588190451025205, 6.123233995736766e-17, -0.25881904510252085, -0.4999999999999998, -0.7071067811865475, -0.8660254037844389, -0.9659258262890682, -1.0, -0.9659258262890684, -0.8660254037844386, -0.7071067811865477, -0.5000000000000004, -0.25881904510252063, -1.8369701987210297e-16, 0.25881904510252113, 0.5000000000000009, 0.7071067811865474, 0.8660254037844384, 0.9659258262890683, 1.0]\n"
     ]
    }
   ],
   "source": [
    "import math\n",
    "\n",
    "s = list(map(math.sin, x))\n",
    "c = list(map(math.cos, x))\n",
    "\n",
    "print(s, c)"
   ]
  },
  {
   "cell_type": "markdown",
   "metadata": {},
   "source": [
    "<div style=\"background-color: #E2A038; border: #E2A038 solid 1px; margin-left: 2em; padding-left: 5px\"><div style=\"background-color: #F5EEE3; width: 100%; padding: 10px\">\n",
    "Utilize o PyPlot para gerar um gráfico que contém os valores de seno e cosseno que você calculou.\n",
    "</div></div>"
   ]
  },
  {
   "cell_type": "code",
   "execution_count": 61,
   "metadata": {},
   "outputs": [
    {
     "data": {
      "image/png": "[encoded data removed]",
      "text/plain": [
       "<Figure size 640x480 with 1 Axes>"
      ]
     },
     "metadata": {},
     "output_type": "display_data"
    }
   ],
   "source": [
    "import matplotlib.pyplot as plt\n",
    "\n",
    "plt.plot(s);\n",
    "plt.plot(c);"
   ]
  }
 ],
 "metadata": {
  "kernelspec": {
   "display_name": "Python 3 (ipykernel)",
   "language": "python",
   "name": "python3"
  },
  "language_info": {
   "codemirror_mode": {
    "name": "ipython",
    "version": 3
   },
   "file_extension": ".py",
   "mimetype": "text/x-python",
   "name": "python",
   "nbconvert_exporter": "python",
   "pygments_lexer": "ipython3",
   "version": "3.10.9"
  }
 },
 "nbformat": 4,
 "nbformat_minor": 2
}
